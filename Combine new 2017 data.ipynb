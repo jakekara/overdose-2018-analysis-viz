{
 "cells": [
  {
   "cell_type": "markdown",
   "metadata": {},
   "source": [
    "## Combine 2017 calendar-year drug deaths with historic data"
   ]
  },
  {
   "cell_type": "code",
   "execution_count": 17,
   "metadata": {
    "collapsed": true
   },
   "outputs": [],
   "source": [
    "import pandas as pd\n",
    "from datetime import datetime"
   ]
  },
  {
   "cell_type": "code",
   "execution_count": 45,
   "metadata": {
    "collapsed": false
   },
   "outputs": [
    {
     "data": {
      "text/plain": [
       "[{u'B01003_001E': 3588570.0, u'NAME': 'Connecticut', u'state': '09'}]"
      ]
     },
     "execution_count": 45,
     "metadata": {},
     "output_type": "execute_result"
    }
   ],
   "source": [
    "from census import Census\n",
    "from us import states\n",
    "from private import KEY\n",
    "\n",
    "c = Census(KEY,year=\"2016\")\n",
    "c.acs5.get(('NAME', 'B01003_001E'),\n",
    "           {'for': 'state:{}'.format(states.CT.fips)})"
   ]
  },
  {
   "cell_type": "markdown",
   "metadata": {},
   "source": [
    "### Get Census population data"
   ]
  },
  {
   "cell_type": "code",
   "execution_count": 503,
   "metadata": {
    "collapsed": false
   },
   "outputs": [
    {
     "data": {
      "text/html": [
       "<div>\n",
       "<table border=\"1\" class=\"dataframe\">\n",
       "  <thead>\n",
       "    <tr style=\"text-align: right;\">\n",
       "      <th></th>\n",
       "      <th>population</th>\n",
       "    </tr>\n",
       "    <tr>\n",
       "      <th>NAME</th>\n",
       "      <th></th>\n",
       "    </tr>\n",
       "  </thead>\n",
       "  <tbody>\n",
       "    <tr>\n",
       "      <th>County subdivisions not defined, Fairfield County, Connecticut</th>\n",
       "      <td>0.0</td>\n",
       "    </tr>\n",
       "    <tr>\n",
       "      <th>Bethel town, Fairfield County, Connecticut</th>\n",
       "      <td>19369.0</td>\n",
       "    </tr>\n",
       "    <tr>\n",
       "      <th>Bridgeport town, Fairfield County, Connecticut</th>\n",
       "      <td>147022.0</td>\n",
       "    </tr>\n",
       "    <tr>\n",
       "      <th>Brookfield town, Fairfield County, Connecticut</th>\n",
       "      <td>16970.0</td>\n",
       "    </tr>\n",
       "    <tr>\n",
       "      <th>Danbury town, Fairfield County, Connecticut</th>\n",
       "      <td>83890.0</td>\n",
       "    </tr>\n",
       "  </tbody>\n",
       "</table>\n",
       "</div>"
      ],
      "text/plain": [
       "                                                    population\n",
       "NAME                                                          \n",
       "County subdivisions not defined, Fairfield Coun...         0.0\n",
       "Bethel town, Fairfield County, Connecticut             19369.0\n",
       "Bridgeport town, Fairfield County, Connecticut        147022.0\n",
       "Brookfield town, Fairfield County, Connecticut         16970.0\n",
       "Danbury town, Fairfield County, Connecticut            83890.0"
      ]
     },
     "execution_count": 503,
     "metadata": {},
     "output_type": "execute_result"
    }
   ],
   "source": [
    "# Get population of each town\n",
    "# This API was really poorly documented\n",
    "# https://beta.dataweb.rm.census.gov/data/2015/acs/acs5/groups/B01003.html\n",
    "POP_GROUP = \"B01003_001E\"\n",
    "pops = pd.DataFrame(c.acs5.state_county_subdivision(('NAME', POP_GROUP),\n",
    "                                states.CT.fips,\n",
    "                                Census.ALL,\n",
    "                                Census.ALL))\n",
    "pops = pops.set_index([\"NAME\"])\n",
    "pops = pops[[POP_GROUP]]\n",
    "pops.columns = [\"population\"]\n",
    "pops.head()"
   ]
  },
  {
   "cell_type": "code",
   "execution_count": 504,
   "metadata": {
    "collapsed": false
   },
   "outputs": [
    {
     "data": {
      "text/html": [
       "<div>\n",
       "<table border=\"1\" class=\"dataframe\">\n",
       "  <thead>\n",
       "    <tr style=\"text-align: right;\">\n",
       "      <th></th>\n",
       "      <th>population</th>\n",
       "    </tr>\n",
       "    <tr>\n",
       "      <th>NAME</th>\n",
       "      <th></th>\n",
       "    </tr>\n",
       "  </thead>\n",
       "  <tbody>\n",
       "    <tr>\n",
       "      <th>Connecticut</th>\n",
       "      <td>3588570.0</td>\n",
       "    </tr>\n",
       "  </tbody>\n",
       "</table>\n",
       "</div>"
      ],
      "text/plain": [
       "             population\n",
       "NAME                   \n",
       "Connecticut   3588570.0"
      ]
     },
     "execution_count": 504,
     "metadata": {},
     "output_type": "execute_result"
    }
   ],
   "source": [
    "# state level \n",
    "POP_GROUP = \"B01003_001E\"\n",
    "state_pops = pd.DataFrame(c.acs5.state(('NAME', POP_GROUP),\n",
    "                                states.CT.fips))\n",
    "state_pops = state_pops.set_index([\"NAME\"])\n",
    "state_pops = state_pops[[POP_GROUP]]\n",
    "state_pops.columns = [\"population\"]\n",
    "state_pops.head()"
   ]
  },
  {
   "cell_type": "code",
   "execution_count": 506,
   "metadata": {
    "collapsed": false
   },
   "outputs": [
    {
     "data": {
      "text/plain": [
       "2.8925170750466065"
      ]
     },
     "execution_count": 506,
     "metadata": {},
     "output_type": "execute_result"
    }
   ],
   "source": [
    "1038 * 10000 / 3588570.0"
   ]
  },
  {
   "cell_type": "markdown",
   "metadata": {},
   "source": [
    "### Get Census Race data\n",
    "\n",
    "I'm only going to pull black, white and hispanic for race comparison"
   ]
  },
  {
   "cell_type": "code",
   "execution_count": null,
   "metadata": {
    "collapsed": true
   },
   "outputs": [],
   "source": [
    "# state race\n",
    "state_race = pd.DataFrame(c.acs5.state_county_subdivision(('NAME', group),\n",
    "                                                          states.CT.fips,"
   ]
  },
  {
   "cell_type": "code",
   "execution_count": 508,
   "metadata": {
    "collapsed": false
   },
   "outputs": [
    {
     "data": {
      "text/html": [
       "<div>\n",
       "<table border=\"1\" class=\"dataframe\">\n",
       "  <thead>\n",
       "    <tr style=\"text-align: right;\">\n",
       "      <th></th>\n",
       "      <th>Hispanic, MOE</th>\n",
       "      <th>Black, alone</th>\n",
       "      <th>Black, MOE</th>\n",
       "      <th>White alone</th>\n",
       "      <th>White, MOE</th>\n",
       "      <th>Hispanic any</th>\n",
       "    </tr>\n",
       "    <tr>\n",
       "      <th>NAME</th>\n",
       "      <th></th>\n",
       "      <th></th>\n",
       "      <th></th>\n",
       "      <th></th>\n",
       "      <th></th>\n",
       "      <th></th>\n",
       "    </tr>\n",
       "  </thead>\n",
       "  <tbody>\n",
       "    <tr>\n",
       "      <th>Connecticut</th>\n",
       "      <td>-555555555.0</td>\n",
       "      <td>347674.0</td>\n",
       "      <td>1972.0</td>\n",
       "      <td>2464450.0</td>\n",
       "      <td>1118.0</td>\n",
       "      <td>537728.0</td>\n",
       "    </tr>\n",
       "  </tbody>\n",
       "</table>\n",
       "</div>"
      ],
      "text/plain": [
       "             Hispanic, MOE  Black, alone  Black, MOE  White alone  White, MOE  \\\n",
       "NAME                                                                            \n",
       "Connecticut   -555555555.0      347674.0      1972.0    2464450.0      1118.0   \n",
       "\n",
       "             Hispanic any  \n",
       "NAME                       \n",
       "Connecticut      537728.0  "
      ]
     },
     "execution_count": 508,
     "metadata": {},
     "output_type": "execute_result"
    }
   ],
   "source": [
    "\"\"\"\n",
    "Get the racial/ethnic makeup of each town\n",
    " \n",
    " Documentation: https://beta.dataweb.rm.census.gov/data/2016/acs/acs5/groups/B03002.html\n",
    " \n",
    " * White alone - B03002_003E\n",
    " * White, MOE - B03002_003M\n",
    " * Black, alone - B03002_004E\n",
    " * Black, MOE - B03002_004M\n",
    " * Hispanic any - B03002_012E\n",
    " * Hispanic, MOE - B03002_012M\n",
    "\n",
    "\"\"\"\n",
    "\n",
    "def get_race():\n",
    "    \n",
    "        cols = {\n",
    "            \"White alone\":\"B03002_003E\",\n",
    "            \"White, MOE\":\"B03002_003M\",\n",
    "            \"Black, alone\":\"B03002_004E\",\n",
    "            \"Black, MOE\":\"B03002_004M\",\n",
    "            \"Hispanic any\":\"B03002_012E\",\n",
    "            \"Hispanic, MOE\":\"B03002_012M\"\n",
    "        }\n",
    "        \n",
    "        \n",
    "        combined = None\n",
    "        for k in cols:\n",
    "            group = cols[k]\n",
    "            df = pd.DataFrame(c.acs5.state(('NAME', group),\n",
    "                                           states.CT.fips))\n",
    "\n",
    "#             df = pd.DataFrame(c.acs5.state_county_subdivision(('NAME', group),\n",
    "#                                                           states.CT.fips,\n",
    "#                                                           Census.ALL,\n",
    "#                                                           Census.ALL))\n",
    "            df = df[[\"NAME\",group]].set_index(\"NAME\")\n",
    "            df.columns = [k]\n",
    "            \n",
    "            if combined is None:\n",
    "                combined = df\n",
    "            else:\n",
    "                combined = combined.join(df)\n",
    "            \n",
    "        return combined\n",
    "racedf = get_race()\n",
    "racedf = racedf[~(racedf.index.str.contains(\"not defined\"))]\n",
    "racedf.head()"
   ]
  },
  {
   "cell_type": "code",
   "execution_count": 509,
   "metadata": {
    "collapsed": false
   },
   "outputs": [
    {
     "data": {
      "text/html": [
       "<div>\n",
       "<table border=\"1\" class=\"dataframe\">\n",
       "  <thead>\n",
       "    <tr style=\"text-align: right;\">\n",
       "      <th></th>\n",
       "      <th>Hispanic, MOE</th>\n",
       "      <th>Black, alone</th>\n",
       "      <th>Black, MOE</th>\n",
       "      <th>White alone</th>\n",
       "      <th>White, MOE</th>\n",
       "      <th>Hispanic any</th>\n",
       "    </tr>\n",
       "  </thead>\n",
       "  <tbody>\n",
       "    <tr>\n",
       "      <th>CONNECTICUT</th>\n",
       "      <td>-555555555.0</td>\n",
       "      <td>347674.0</td>\n",
       "      <td>1972.0</td>\n",
       "      <td>2464450.0</td>\n",
       "      <td>1118.0</td>\n",
       "      <td>537728.0</td>\n",
       "    </tr>\n",
       "  </tbody>\n",
       "</table>\n",
       "</div>"
      ],
      "text/plain": [
       "             Hispanic, MOE  Black, alone  Black, MOE  White alone  White, MOE  \\\n",
       "CONNECTICUT   -555555555.0      347674.0      1972.0    2464450.0      1118.0   \n",
       "\n",
       "             Hispanic any  \n",
       "CONNECTICUT      537728.0  "
      ]
     },
     "execution_count": 509,
     "metadata": {},
     "output_type": "execute_result"
    }
   ],
   "source": [
    "import re\n",
    "\n",
    "def town_name(tstr):\n",
    "    return re.split(\" town,\",tstr)[0].strip().upper()\n",
    "    #return tstr\n",
    "    \n",
    "pops.index = pops.index.map(town_name)\n",
    "racedf.index = racedf.index.map(town_name)\n",
    "racedf  "
   ]
  },
  {
   "cell_type": "code",
   "execution_count": null,
   "metadata": {
    "collapsed": true
   },
   "outputs": [],
   "source": []
  },
  {
   "cell_type": "code",
   "execution_count": 510,
   "metadata": {
    "collapsed": false,
    "scrolled": true
   },
   "outputs": [
    {
     "data": {
      "text/plain": [
       "White                     2430\n",
       "Hispanic, White            318\n",
       "Black                      241\n",
       "Unknown                     13\n",
       "Asian, Other                11\n",
       "Hispanic, Black              9\n",
       "Other                        6\n",
       "Asian Indian                 3\n",
       "Chinese                      2\n",
       "Native American, Other       1\n",
       "Hawaiian                     1\n",
       "Name: Race, dtype: int64"
      ]
     },
     "execution_count": 510,
     "metadata": {},
     "output_type": "execute_result"
    }
   ],
   "source": [
    "OD[\"Race\"].value_counts()"
   ]
  },
  {
   "cell_type": "code",
   "execution_count": 511,
   "metadata": {
    "collapsed": false
   },
   "outputs": [
    {
     "data": {
      "text/plain": [
       "White              813\n",
       "Hispanic, White    114\n",
       "Black               88\n",
       "Hispanic, Black      8\n",
       "Asian Indian         6\n",
       "Unknown              3\n",
       "Asian, Other         3\n",
       "Other                1\n",
       "Name: Race, dtype: int64"
      ]
     },
     "execution_count": 511,
     "metadata": {},
     "output_type": "execute_result"
    }
   ],
   "source": [
    "OD2017[\"Race\"].value_counts()"
   ]
  },
  {
   "cell_type": "code",
   "execution_count": null,
   "metadata": {
    "collapsed": true
   },
   "outputs": [],
   "source": []
  },
  {
   "cell_type": "markdown",
   "metadata": {},
   "source": [
    "### Import 2012-mid 2017 data"
   ]
  },
  {
   "cell_type": "code",
   "execution_count": 512,
   "metadata": {
    "collapsed": false
   },
   "outputs": [],
   "source": [
    "OD_URL = \"https://data.ct.gov/api/views/rybz-nyjw/rows.csv?accessType=DOWNLOAD\"\n",
    "OD = pd.read_csv(OD_URL)"
   ]
  },
  {
   "cell_type": "code",
   "execution_count": 10,
   "metadata": {
    "collapsed": false
   },
   "outputs": [
    {
     "data": {
      "text/plain": [
       "3583"
      ]
     },
     "execution_count": 10,
     "metadata": {},
     "output_type": "execute_result"
    }
   ],
   "source": [
    "len(OD)"
   ]
  },
  {
   "cell_type": "code",
   "execution_count": 11,
   "metadata": {
    "collapsed": false
   },
   "outputs": [
    {
     "data": {
      "text/html": [
       "<div>\n",
       "<table border=\"1\" class=\"dataframe\">\n",
       "  <thead>\n",
       "    <tr style=\"text-align: right;\">\n",
       "      <th></th>\n",
       "      <th>CaseNumber</th>\n",
       "      <th>Date</th>\n",
       "      <th>Sex</th>\n",
       "      <th>Race</th>\n",
       "      <th>Age</th>\n",
       "      <th>Residence City</th>\n",
       "      <th>Residence State</th>\n",
       "      <th>Residence County</th>\n",
       "      <th>Death City</th>\n",
       "      <th>Death State</th>\n",
       "      <th>...</th>\n",
       "      <th>Benzodiazepine</th>\n",
       "      <th>Methadone</th>\n",
       "      <th>Amphet</th>\n",
       "      <th>Tramad</th>\n",
       "      <th>Morphine (not heroin)</th>\n",
       "      <th>Other</th>\n",
       "      <th>Any Opioid</th>\n",
       "      <th>MannerofDeath</th>\n",
       "      <th>AmendedMannerofDeath</th>\n",
       "      <th>DeathLoc</th>\n",
       "    </tr>\n",
       "  </thead>\n",
       "  <tbody>\n",
       "    <tr>\n",
       "      <th>0</th>\n",
       "      <td>13-16336</td>\n",
       "      <td>11/09/2013</td>\n",
       "      <td>Female</td>\n",
       "      <td>White</td>\n",
       "      <td>53.0</td>\n",
       "      <td>GROTON</td>\n",
       "      <td>NaN</td>\n",
       "      <td>NEW LONDON</td>\n",
       "      <td>GROTON</td>\n",
       "      <td>NaN</td>\n",
       "      <td>...</td>\n",
       "      <td>Y</td>\n",
       "      <td>NaN</td>\n",
       "      <td>NaN</td>\n",
       "      <td>NaN</td>\n",
       "      <td>NaN</td>\n",
       "      <td>NaN</td>\n",
       "      <td>NaN</td>\n",
       "      <td>Accident</td>\n",
       "      <td>NaN</td>\n",
       "      <td>GROTON, CT\\n(41.343693, -72.07877)</td>\n",
       "    </tr>\n",
       "    <tr>\n",
       "      <th>1</th>\n",
       "      <td>12-18447</td>\n",
       "      <td>12/29/2012</td>\n",
       "      <td>Male</td>\n",
       "      <td>White</td>\n",
       "      <td>30.0</td>\n",
       "      <td>WOLCOTT</td>\n",
       "      <td>NaN</td>\n",
       "      <td>NEW HAVEN</td>\n",
       "      <td>WATERBURY</td>\n",
       "      <td>NaN</td>\n",
       "      <td>...</td>\n",
       "      <td>NaN</td>\n",
       "      <td>NaN</td>\n",
       "      <td>NaN</td>\n",
       "      <td>NaN</td>\n",
       "      <td>NaN</td>\n",
       "      <td>NaN</td>\n",
       "      <td>NaN</td>\n",
       "      <td>Accident</td>\n",
       "      <td>NaN</td>\n",
       "      <td>WATERBURY, CT\\n(41.554261, -73.043069)</td>\n",
       "    </tr>\n",
       "    <tr>\n",
       "      <th>2</th>\n",
       "      <td>14-2758</td>\n",
       "      <td>02/18/2014</td>\n",
       "      <td>Male</td>\n",
       "      <td>White</td>\n",
       "      <td>43.0</td>\n",
       "      <td>ENFIELD</td>\n",
       "      <td>NaN</td>\n",
       "      <td>NaN</td>\n",
       "      <td>ENFIELD</td>\n",
       "      <td>NaN</td>\n",
       "      <td>...</td>\n",
       "      <td>Y</td>\n",
       "      <td>NaN</td>\n",
       "      <td>NaN</td>\n",
       "      <td>NaN</td>\n",
       "      <td>NaN</td>\n",
       "      <td>NaN</td>\n",
       "      <td>NaN</td>\n",
       "      <td>Accident</td>\n",
       "      <td>NaN</td>\n",
       "      <td>ENFIELD, CT\\n(41.976501, -72.591985)</td>\n",
       "    </tr>\n",
       "    <tr>\n",
       "      <th>3</th>\n",
       "      <td>14-13497</td>\n",
       "      <td>09/07/2014</td>\n",
       "      <td>Female</td>\n",
       "      <td>White</td>\n",
       "      <td>24.0</td>\n",
       "      <td>WALLINGFORD</td>\n",
       "      <td>NaN</td>\n",
       "      <td>NaN</td>\n",
       "      <td>WALLINGFORD</td>\n",
       "      <td>NaN</td>\n",
       "      <td>...</td>\n",
       "      <td>NaN</td>\n",
       "      <td>NaN</td>\n",
       "      <td>NaN</td>\n",
       "      <td>NaN</td>\n",
       "      <td>NaN</td>\n",
       "      <td>NaN</td>\n",
       "      <td>NaN</td>\n",
       "      <td>Accident</td>\n",
       "      <td>NaN</td>\n",
       "      <td>WALLINGFORD, CT\\n(41.454408, -72.818414)</td>\n",
       "    </tr>\n",
       "    <tr>\n",
       "      <th>4</th>\n",
       "      <td>13-14421</td>\n",
       "      <td>10/04/2013</td>\n",
       "      <td>Female</td>\n",
       "      <td>White</td>\n",
       "      <td>26.0</td>\n",
       "      <td>WEST HAVEN</td>\n",
       "      <td>NaN</td>\n",
       "      <td>NEW HAVEN</td>\n",
       "      <td>WEST HAVEN</td>\n",
       "      <td>NaN</td>\n",
       "      <td>...</td>\n",
       "      <td>NaN</td>\n",
       "      <td>NaN</td>\n",
       "      <td>NaN</td>\n",
       "      <td>NaN</td>\n",
       "      <td>NaN</td>\n",
       "      <td>NaN</td>\n",
       "      <td>NaN</td>\n",
       "      <td>Accident</td>\n",
       "      <td>NaN</td>\n",
       "      <td>WEST HAVEN, CT\\n(41.272336, -72.949817)</td>\n",
       "    </tr>\n",
       "  </tbody>\n",
       "</table>\n",
       "<p>5 rows × 32 columns</p>\n",
       "</div>"
      ],
      "text/plain": [
       "  CaseNumber        Date     Sex   Race   Age Residence City Residence State  \\\n",
       "0   13-16336  11/09/2013  Female  White  53.0         GROTON             NaN   \n",
       "1   12-18447  12/29/2012    Male  White  30.0        WOLCOTT             NaN   \n",
       "2    14-2758  02/18/2014    Male  White  43.0        ENFIELD             NaN   \n",
       "3   14-13497  09/07/2014  Female  White  24.0    WALLINGFORD             NaN   \n",
       "4   13-14421  10/04/2013  Female  White  26.0     WEST HAVEN             NaN   \n",
       "\n",
       "  Residence County   Death City Death State  \\\n",
       "0       NEW LONDON       GROTON         NaN   \n",
       "1        NEW HAVEN    WATERBURY         NaN   \n",
       "2              NaN      ENFIELD         NaN   \n",
       "3              NaN  WALLINGFORD         NaN   \n",
       "4        NEW HAVEN   WEST HAVEN         NaN   \n",
       "\n",
       "                     ...                    Benzodiazepine Methadone Amphet  \\\n",
       "0                    ...                                 Y       NaN    NaN   \n",
       "1                    ...                               NaN       NaN    NaN   \n",
       "2                    ...                                 Y       NaN    NaN   \n",
       "3                    ...                               NaN       NaN    NaN   \n",
       "4                    ...                               NaN       NaN    NaN   \n",
       "\n",
       "  Tramad Morphine (not heroin) Other Any Opioid MannerofDeath  \\\n",
       "0    NaN                   NaN   NaN        NaN      Accident   \n",
       "1    NaN                   NaN   NaN        NaN      Accident   \n",
       "2    NaN                   NaN   NaN        NaN      Accident   \n",
       "3    NaN                   NaN   NaN        NaN      Accident   \n",
       "4    NaN                   NaN   NaN        NaN      Accident   \n",
       "\n",
       "  AmendedMannerofDeath                                  DeathLoc  \n",
       "0                  NaN        GROTON, CT\\n(41.343693, -72.07877)  \n",
       "1                  NaN    WATERBURY, CT\\n(41.554261, -73.043069)  \n",
       "2                  NaN      ENFIELD, CT\\n(41.976501, -72.591985)  \n",
       "3                  NaN  WALLINGFORD, CT\\n(41.454408, -72.818414)  \n",
       "4                  NaN   WEST HAVEN, CT\\n(41.272336, -72.949817)  \n",
       "\n",
       "[5 rows x 32 columns]"
      ]
     },
     "execution_count": 11,
     "metadata": {},
     "output_type": "execute_result"
    }
   ],
   "source": [
    "OD.head()"
   ]
  },
  {
   "cell_type": "markdown",
   "metadata": {},
   "source": [
    "### Import calendar 2017 data"
   ]
  },
  {
   "cell_type": "code",
   "execution_count": 24,
   "metadata": {
    "collapsed": false
   },
   "outputs": [
    {
     "data": {
      "text/html": [
       "<div>\n",
       "<table border=\"1\" class=\"dataframe\">\n",
       "  <thead>\n",
       "    <tr style=\"text-align: right;\">\n",
       "      <th></th>\n",
       "      <th>Date Reported</th>\n",
       "      <th>Sex</th>\n",
       "      <th>Race</th>\n",
       "      <th>Age</th>\n",
       "      <th>Residence City</th>\n",
       "      <th>Residence State</th>\n",
       "      <th>Residence County</th>\n",
       "      <th>Death City</th>\n",
       "      <th>Death State</th>\n",
       "      <th>Death County</th>\n",
       "      <th>...</th>\n",
       "      <th>Hydr-Cod</th>\n",
       "      <th>Benzo's</th>\n",
       "      <th>Methadone</th>\n",
       "      <th>Amphet</th>\n",
       "      <th>Tramad</th>\n",
       "      <th>Hydromorphone</th>\n",
       "      <th>Morphine (not heroin)</th>\n",
       "      <th>Other</th>\n",
       "      <th>Opiate NOS</th>\n",
       "      <th>MannerofDeath</th>\n",
       "    </tr>\n",
       "  </thead>\n",
       "  <tbody>\n",
       "    <tr>\n",
       "      <th>0</th>\n",
       "      <td>2017-01-01</td>\n",
       "      <td>Female</td>\n",
       "      <td>White</td>\n",
       "      <td>35</td>\n",
       "      <td>Prospect</td>\n",
       "      <td>CT</td>\n",
       "      <td>New Haven</td>\n",
       "      <td>Bristol</td>\n",
       "      <td>CT</td>\n",
       "      <td>Hartford</td>\n",
       "      <td>...</td>\n",
       "      <td>NaN</td>\n",
       "      <td>NaN</td>\n",
       "      <td>NaN</td>\n",
       "      <td>NaN</td>\n",
       "      <td>NaN</td>\n",
       "      <td>NaN</td>\n",
       "      <td>NaN</td>\n",
       "      <td>NaN</td>\n",
       "      <td>NaN</td>\n",
       "      <td>Accident</td>\n",
       "    </tr>\n",
       "    <tr>\n",
       "      <th>1</th>\n",
       "      <td>2017-05-06</td>\n",
       "      <td>Male</td>\n",
       "      <td>White</td>\n",
       "      <td>45</td>\n",
       "      <td>Stafford</td>\n",
       "      <td>CT</td>\n",
       "      <td>Tolland</td>\n",
       "      <td>Stafford</td>\n",
       "      <td>CT</td>\n",
       "      <td>Tolland</td>\n",
       "      <td>...</td>\n",
       "      <td>NaN</td>\n",
       "      <td>NaN</td>\n",
       "      <td>NaN</td>\n",
       "      <td>NaN</td>\n",
       "      <td>NaN</td>\n",
       "      <td>NaN</td>\n",
       "      <td>NaN</td>\n",
       "      <td>NaN</td>\n",
       "      <td>NaN</td>\n",
       "      <td>Accident</td>\n",
       "    </tr>\n",
       "    <tr>\n",
       "      <th>2</th>\n",
       "      <td>2017-03-06</td>\n",
       "      <td>Male</td>\n",
       "      <td>White</td>\n",
       "      <td>33</td>\n",
       "      <td>Meriden</td>\n",
       "      <td>CT</td>\n",
       "      <td>New Haven</td>\n",
       "      <td>Meriden</td>\n",
       "      <td>CT</td>\n",
       "      <td>New Haven</td>\n",
       "      <td>...</td>\n",
       "      <td>NaN</td>\n",
       "      <td>NaN</td>\n",
       "      <td>NaN</td>\n",
       "      <td>NaN</td>\n",
       "      <td>NaN</td>\n",
       "      <td>NaN</td>\n",
       "      <td>NaN</td>\n",
       "      <td>NaN</td>\n",
       "      <td>NaN</td>\n",
       "      <td>Accident</td>\n",
       "    </tr>\n",
       "    <tr>\n",
       "      <th>3</th>\n",
       "      <td>2017-01-02</td>\n",
       "      <td>Male</td>\n",
       "      <td>White</td>\n",
       "      <td>54</td>\n",
       "      <td>Hamden</td>\n",
       "      <td>CT</td>\n",
       "      <td>New Haven</td>\n",
       "      <td>New Haven</td>\n",
       "      <td>CT</td>\n",
       "      <td>New Haven</td>\n",
       "      <td>...</td>\n",
       "      <td>NaN</td>\n",
       "      <td>NaN</td>\n",
       "      <td>NaN</td>\n",
       "      <td>NaN</td>\n",
       "      <td>NaN</td>\n",
       "      <td>NaN</td>\n",
       "      <td>NaN</td>\n",
       "      <td>NaN</td>\n",
       "      <td>NaN</td>\n",
       "      <td>Accident</td>\n",
       "    </tr>\n",
       "    <tr>\n",
       "      <th>4</th>\n",
       "      <td>2017-01-03</td>\n",
       "      <td>Female</td>\n",
       "      <td>White</td>\n",
       "      <td>45</td>\n",
       "      <td>New London</td>\n",
       "      <td>CT</td>\n",
       "      <td>New London</td>\n",
       "      <td>New London</td>\n",
       "      <td>CT</td>\n",
       "      <td>New London</td>\n",
       "      <td>...</td>\n",
       "      <td>NaN</td>\n",
       "      <td>NaN</td>\n",
       "      <td>NaN</td>\n",
       "      <td>NaN</td>\n",
       "      <td>NaN</td>\n",
       "      <td>NaN</td>\n",
       "      <td>NaN</td>\n",
       "      <td>NaN</td>\n",
       "      <td>NaN</td>\n",
       "      <td>Accident</td>\n",
       "    </tr>\n",
       "  </tbody>\n",
       "</table>\n",
       "<p>5 rows × 35 columns</p>\n",
       "</div>"
      ],
      "text/plain": [
       "  Date Reported     Sex   Race Age Residence City Residence State  \\\n",
       "0    2017-01-01  Female  White  35       Prospect              CT   \n",
       "1    2017-05-06    Male  White  45       Stafford              CT   \n",
       "2    2017-03-06    Male  White  33        Meriden              CT   \n",
       "3    2017-01-02    Male  White  54         Hamden              CT   \n",
       "4    2017-01-03  Female  White  45     New London              CT   \n",
       "\n",
       "  Residence County  Death City Death State Death County      ...       \\\n",
       "0        New Haven     Bristol          CT     Hartford      ...        \n",
       "1          Tolland    Stafford          CT      Tolland      ...        \n",
       "2        New Haven     Meriden          CT    New Haven      ...        \n",
       "3        New Haven   New Haven          CT    New Haven      ...        \n",
       "4       New London  New London          CT   New London      ...        \n",
       "\n",
       "  Hydr-Cod Benzo's Methadone Amphet Tramad Hydromorphone  \\\n",
       "0      NaN     NaN       NaN    NaN    NaN           NaN   \n",
       "1      NaN     NaN       NaN    NaN    NaN           NaN   \n",
       "2      NaN     NaN       NaN    NaN    NaN           NaN   \n",
       "3      NaN     NaN       NaN    NaN    NaN           NaN   \n",
       "4      NaN     NaN       NaN    NaN    NaN           NaN   \n",
       "\n",
       "  Morphine (not heroin) Other Opiate NOS MannerofDeath  \n",
       "0                   NaN   NaN        NaN      Accident  \n",
       "1                   NaN   NaN        NaN      Accident  \n",
       "2                   NaN   NaN        NaN      Accident  \n",
       "3                   NaN   NaN        NaN      Accident  \n",
       "4                   NaN   NaN        NaN      Accident  \n",
       "\n",
       "[5 rows x 35 columns]"
      ]
     },
     "execution_count": 24,
     "metadata": {},
     "output_type": "execute_result"
    }
   ],
   "source": [
    "OD2017 = pd.read_excel(\"data/Accident drug 2017 totals 3-1-18  website.xlsx\")\n",
    "OD2017.head()"
   ]
  },
  {
   "cell_type": "markdown",
   "metadata": {},
   "source": [
    "### Damn, the columns don't match!"
   ]
  },
  {
   "cell_type": "code",
   "execution_count": 25,
   "metadata": {
    "collapsed": false
   },
   "outputs": [],
   "source": [
    "def not_in(a, b):\n",
    "    for c in a.columns:\n",
    "        if c not in b.columns: print c"
   ]
  },
  {
   "cell_type": "code",
   "execution_count": 27,
   "metadata": {
    "collapsed": false
   },
   "outputs": [
    {
     "name": "stdout",
     "output_type": "stream",
     "text": [
      "CaseNumber\n",
      "Date\n",
      "ImmediateCauseA\n",
      "Oxycodone\n",
      "Oxymorphone\n",
      "EtOH\n",
      "Hydrocodone\n",
      "Benzodiazepine\n",
      "Any Opioid\n",
      "AmendedMannerofDeath\n",
      "DeathLoc\n"
     ]
    }
   ],
   "source": [
    "not_in(OD, OD2017)"
   ]
  },
  {
   "cell_type": "code",
   "execution_count": 28,
   "metadata": {
    "collapsed": false
   },
   "outputs": [
    {
     "name": "stdout",
     "output_type": "stream",
     "text": [
      "Date Reported\n",
      "LocationifOther\n",
      "InjuryCity\n",
      "injuryCounty\n",
      "InjuryState\n",
      "Death Certificate\n",
      "Fentanyl Analogue\n",
      "OxyC\n",
      "OxyM\n",
      "Ethanol\n",
      "Hydr-Cod\n",
      "Benzo's\n",
      "Hydromorphone\n",
      "Opiate NOS\n"
     ]
    }
   ],
   "source": [
    "not_in(OD2017, OD)"
   ]
  },
  {
   "cell_type": "code",
   "execution_count": 109,
   "metadata": {
    "collapsed": false
   },
   "outputs": [
    {
     "name": "stdout",
     "output_type": "stream",
     "text": [
      "Index([u'CaseNumber', u'Date', u'Sex', u'Race', u'Age', u'Residence City',\n",
      "       u'Residence State', u'Residence County', u'Death City', u'Death State',\n",
      "       u'Death County', u'Location', u'DescriptionofInjury', u'InjuryPlace',\n",
      "       u'ImmediateCauseA', u'Heroin', u'Cocaine', u'Fentanyl', u'Oxycodone',\n",
      "       u'Oxymorphone', u'EtOH', u'Hydrocodone', u'Benzodiazepine',\n",
      "       u'Methadone', u'Amphet', u'Tramad', u'Morphine (not heroin)', u'Other',\n",
      "       u'Any Opioid', u'MannerofDeath', u'AmendedMannerofDeath', u'DeathLoc'],\n",
      "      dtype='object')\n"
     ]
    }
   ],
   "source": [
    "print OD.columns"
   ]
  },
  {
   "cell_type": "code",
   "execution_count": 110,
   "metadata": {
    "collapsed": false
   },
   "outputs": [
    {
     "name": "stdout",
     "output_type": "stream",
     "text": [
      "Index([u'Date Reported', u'Sex', u'Race', u'Age', u'Residence City',\n",
      "       u'Residence State', u'Residence County', u'Death City', u'Death State',\n",
      "       u'Death County', u'Location', u'LocationifOther',\n",
      "       u'DescriptionofInjury', u'InjuryPlace', u'InjuryCity', u'injuryCounty',\n",
      "       u'InjuryState', u'Death Certificate', u'Heroin', u'Cocaine',\n",
      "       u'Fentanyl', u'Fentanyl Analogue', u'OxyC', u'OxyM', u'Ethanol',\n",
      "       u'Hydr-Cod', u'Benzo's', u'Methadone', u'Amphet', u'Tramad',\n",
      "       u'Hydromorphone', u'Morphine (not heroin)', u'Other', u'Opiate NOS',\n",
      "       u'MannerofDeath'],\n",
      "      dtype='object')\n"
     ]
    }
   ],
   "source": [
    "print OD2017.columns"
   ]
  },
  {
   "cell_type": "markdown",
   "metadata": {},
   "source": [
    "### Convert time columns from strings"
   ]
  },
  {
   "cell_type": "code",
   "execution_count": 15,
   "metadata": {
    "collapsed": false
   },
   "outputs": [
    {
     "data": {
      "text/plain": [
       "datetime.datetime(2013, 11, 9, 0, 0)"
      ]
     },
     "execution_count": 15,
     "metadata": {},
     "output_type": "execute_result"
    }
   ],
   "source": [
    "datetime.strptime(\"11/09/2013\",\"%m/%d/%Y\")"
   ]
  },
  {
   "cell_type": "code",
   "execution_count": 140,
   "metadata": {
    "collapsed": true
   },
   "outputs": [],
   "source": [
    "import numpy as np\n",
    "\n",
    "def convert_date(dstr):\n",
    "    \n",
    "    if dstr is None: return dstr\n",
    "    #if np.isnan(dstr): return dstr\n",
    "    \n",
    "    try:\n",
    "        return datetime.strptime(dstr,\"%m/%d/%Y\")\n",
    "    except:\n",
    "        print dstr"
   ]
  },
  {
   "cell_type": "markdown",
   "metadata": {},
   "source": [
    "### Remove 2017 stuff from historical data frame\n",
    "\n",
    "So that it can be used in conjunction with new 2017 data"
   ]
  },
  {
   "cell_type": "code",
   "execution_count": 147,
   "metadata": {
    "collapsed": false
   },
   "outputs": [],
   "source": [
    "#OD2017[\"Date Reported\"].apply(convert_date)\n",
    "OD2017[\"datetime\"] = OD2017[\"Date Reported\"]"
   ]
  },
  {
   "cell_type": "code",
   "execution_count": 162,
   "metadata": {
    "collapsed": false
   },
   "outputs": [
    {
     "data": {
      "text/html": [
       "<div>\n",
       "<table border=\"1\" class=\"dataframe\">\n",
       "  <thead>\n",
       "    <tr style=\"text-align: right;\">\n",
       "      <th></th>\n",
       "      <th>CaseNumber</th>\n",
       "      <th>Date</th>\n",
       "      <th>Sex</th>\n",
       "      <th>Race</th>\n",
       "      <th>Age</th>\n",
       "      <th>Residence City</th>\n",
       "      <th>Residence State</th>\n",
       "      <th>Residence County</th>\n",
       "      <th>Death City</th>\n",
       "      <th>Death State</th>\n",
       "      <th>...</th>\n",
       "      <th>Methadone</th>\n",
       "      <th>Amphet</th>\n",
       "      <th>Tramad</th>\n",
       "      <th>Morphine (not heroin)</th>\n",
       "      <th>Other</th>\n",
       "      <th>Any Opioid</th>\n",
       "      <th>MannerofDeath</th>\n",
       "      <th>AmendedMannerofDeath</th>\n",
       "      <th>DeathLoc</th>\n",
       "      <th>datetime</th>\n",
       "    </tr>\n",
       "  </thead>\n",
       "  <tbody>\n",
       "    <tr>\n",
       "      <th>2216</th>\n",
       "      <td>16-2749</td>\n",
       "      <td>12/31/2016</td>\n",
       "      <td>Male</td>\n",
       "      <td>White</td>\n",
       "      <td>57.0</td>\n",
       "      <td>NAUGATUCK</td>\n",
       "      <td>NaN</td>\n",
       "      <td>NEW HAVEN</td>\n",
       "      <td>NAUGATUCK</td>\n",
       "      <td>NaN</td>\n",
       "      <td>...</td>\n",
       "      <td>NaN</td>\n",
       "      <td>NaN</td>\n",
       "      <td>NaN</td>\n",
       "      <td>NaN</td>\n",
       "      <td>NaN</td>\n",
       "      <td>NaN</td>\n",
       "      <td>Accident</td>\n",
       "      <td>NaN</td>\n",
       "      <td>NAUGATUCK, CT\\n(41.491113, -73.056564)</td>\n",
       "      <td>2016-12-31</td>\n",
       "    </tr>\n",
       "    <tr>\n",
       "      <th>2611</th>\n",
       "      <td>16-2902</td>\n",
       "      <td>12/31/2016</td>\n",
       "      <td>Female</td>\n",
       "      <td>White</td>\n",
       "      <td>27.0</td>\n",
       "      <td>EAST HAVEN</td>\n",
       "      <td>NaN</td>\n",
       "      <td>NEW HAVEN</td>\n",
       "      <td>EAST HAVEN</td>\n",
       "      <td>NaN</td>\n",
       "      <td>...</td>\n",
       "      <td>NaN</td>\n",
       "      <td>NaN</td>\n",
       "      <td>NaN</td>\n",
       "      <td>NaN</td>\n",
       "      <td>NaN</td>\n",
       "      <td>NaN</td>\n",
       "      <td>Accident</td>\n",
       "      <td>NaN</td>\n",
       "      <td>EAST HAVEN, CT\\n(41.277971, -72.871954)</td>\n",
       "      <td>2016-12-31</td>\n",
       "    </tr>\n",
       "    <tr>\n",
       "      <th>2538</th>\n",
       "      <td>16-2652</td>\n",
       "      <td>12/31/2016</td>\n",
       "      <td>Male</td>\n",
       "      <td>Hispanic, White</td>\n",
       "      <td>22.0</td>\n",
       "      <td>BRISTOL</td>\n",
       "      <td>NaN</td>\n",
       "      <td>HARTFORD</td>\n",
       "      <td>BRISTOL</td>\n",
       "      <td>NaN</td>\n",
       "      <td>...</td>\n",
       "      <td>NaN</td>\n",
       "      <td>NaN</td>\n",
       "      <td>NaN</td>\n",
       "      <td>NaN</td>\n",
       "      <td>NaN</td>\n",
       "      <td>NaN</td>\n",
       "      <td>Accident</td>\n",
       "      <td>NaN</td>\n",
       "      <td>BRISTOL, CT\\n(41.673037, -72.945791)</td>\n",
       "      <td>2016-12-31</td>\n",
       "    </tr>\n",
       "  </tbody>\n",
       "</table>\n",
       "<p>3 rows × 33 columns</p>\n",
       "</div>"
      ],
      "text/plain": [
       "     CaseNumber        Date     Sex             Race   Age Residence City  \\\n",
       "2216    16-2749  12/31/2016    Male            White  57.0      NAUGATUCK   \n",
       "2611    16-2902  12/31/2016  Female            White  27.0     EAST HAVEN   \n",
       "2538    16-2652  12/31/2016    Male  Hispanic, White  22.0        BRISTOL   \n",
       "\n",
       "     Residence State Residence County  Death City Death State    ...      \\\n",
       "2216             NaN        NEW HAVEN   NAUGATUCK         NaN    ...       \n",
       "2611             NaN        NEW HAVEN  EAST HAVEN         NaN    ...       \n",
       "2538             NaN         HARTFORD     BRISTOL         NaN    ...       \n",
       "\n",
       "     Methadone Amphet Tramad Morphine (not heroin) Other Any Opioid  \\\n",
       "2216       NaN    NaN    NaN                   NaN   NaN        NaN   \n",
       "2611       NaN    NaN    NaN                   NaN   NaN        NaN   \n",
       "2538       NaN    NaN    NaN                   NaN   NaN        NaN   \n",
       "\n",
       "     MannerofDeath AmendedMannerofDeath  \\\n",
       "2216      Accident                  NaN   \n",
       "2611      Accident                  NaN   \n",
       "2538      Accident                  NaN   \n",
       "\n",
       "                                     DeathLoc   datetime  \n",
       "2216   NAUGATUCK, CT\\n(41.491113, -73.056564) 2016-12-31  \n",
       "2611  EAST HAVEN, CT\\n(41.277971, -72.871954) 2016-12-31  \n",
       "2538     BRISTOL, CT\\n(41.673037, -72.945791) 2016-12-31  \n",
       "\n",
       "[3 rows x 33 columns]"
      ]
     },
     "execution_count": 162,
     "metadata": {},
     "output_type": "execute_result"
    }
   ],
   "source": [
    "# Remove deaths prior to Jan 1, 2017\n",
    "# Make sure it ends in 2016\n",
    "OD = OD[OD[\"datetime\"] < datetime(2017,1,1)]\n",
    "OD.sort_values(by=\"datetime\",ascending=False).head(3)"
   ]
  },
  {
   "cell_type": "code",
   "execution_count": 163,
   "metadata": {
    "collapsed": false
   },
   "outputs": [],
   "source": [
    "OD[\"datetime\"] = OD[\"Date\"].apply(convert_date)"
   ]
  },
  {
   "cell_type": "code",
   "execution_count": 164,
   "metadata": {
    "collapsed": false
   },
   "outputs": [
    {
     "data": {
      "text/html": [
       "<div>\n",
       "<table border=\"1\" class=\"dataframe\">\n",
       "  <thead>\n",
       "    <tr style=\"text-align: right;\">\n",
       "      <th></th>\n",
       "      <th>Date Reported</th>\n",
       "      <th>Sex</th>\n",
       "      <th>Race</th>\n",
       "      <th>Age</th>\n",
       "      <th>Residence City</th>\n",
       "      <th>Residence State</th>\n",
       "      <th>Residence County</th>\n",
       "      <th>Death City</th>\n",
       "      <th>Death State</th>\n",
       "      <th>Death County</th>\n",
       "      <th>...</th>\n",
       "      <th>Benzo's</th>\n",
       "      <th>Methadone</th>\n",
       "      <th>Amphet</th>\n",
       "      <th>Tramad</th>\n",
       "      <th>Hydromorphone</th>\n",
       "      <th>Morphine (not heroin)</th>\n",
       "      <th>Other</th>\n",
       "      <th>Opiate NOS</th>\n",
       "      <th>MannerofDeath</th>\n",
       "      <th>datetime</th>\n",
       "    </tr>\n",
       "  </thead>\n",
       "  <tbody>\n",
       "    <tr>\n",
       "      <th>0</th>\n",
       "      <td>2017-01-01</td>\n",
       "      <td>Female</td>\n",
       "      <td>White</td>\n",
       "      <td>35</td>\n",
       "      <td>Prospect</td>\n",
       "      <td>CT</td>\n",
       "      <td>New Haven</td>\n",
       "      <td>Bristol</td>\n",
       "      <td>CT</td>\n",
       "      <td>Hartford</td>\n",
       "      <td>...</td>\n",
       "      <td>NaN</td>\n",
       "      <td>NaN</td>\n",
       "      <td>NaN</td>\n",
       "      <td>NaN</td>\n",
       "      <td>NaN</td>\n",
       "      <td>NaN</td>\n",
       "      <td>NaN</td>\n",
       "      <td>NaN</td>\n",
       "      <td>Accident</td>\n",
       "      <td>2017-01-01</td>\n",
       "    </tr>\n",
       "    <tr>\n",
       "      <th>161</th>\n",
       "      <td>2017-01-02</td>\n",
       "      <td>Male</td>\n",
       "      <td>Hispanic, White</td>\n",
       "      <td>53</td>\n",
       "      <td>Hartford</td>\n",
       "      <td>CT</td>\n",
       "      <td>Hartford</td>\n",
       "      <td>Hartford</td>\n",
       "      <td>CT</td>\n",
       "      <td>Hartford</td>\n",
       "      <td>...</td>\n",
       "      <td>NaN</td>\n",
       "      <td>NaN</td>\n",
       "      <td>NaN</td>\n",
       "      <td>NaN</td>\n",
       "      <td>NaN</td>\n",
       "      <td>NaN</td>\n",
       "      <td>NaN</td>\n",
       "      <td>NaN</td>\n",
       "      <td>Accident</td>\n",
       "      <td>2017-01-02</td>\n",
       "    </tr>\n",
       "    <tr>\n",
       "      <th>3</th>\n",
       "      <td>2017-01-02</td>\n",
       "      <td>Male</td>\n",
       "      <td>White</td>\n",
       "      <td>54</td>\n",
       "      <td>Hamden</td>\n",
       "      <td>CT</td>\n",
       "      <td>New Haven</td>\n",
       "      <td>New Haven</td>\n",
       "      <td>CT</td>\n",
       "      <td>New Haven</td>\n",
       "      <td>...</td>\n",
       "      <td>NaN</td>\n",
       "      <td>NaN</td>\n",
       "      <td>NaN</td>\n",
       "      <td>NaN</td>\n",
       "      <td>NaN</td>\n",
       "      <td>NaN</td>\n",
       "      <td>NaN</td>\n",
       "      <td>NaN</td>\n",
       "      <td>Accident</td>\n",
       "      <td>2017-01-02</td>\n",
       "    </tr>\n",
       "    <tr>\n",
       "      <th>11</th>\n",
       "      <td>2017-01-02</td>\n",
       "      <td>Male</td>\n",
       "      <td>White</td>\n",
       "      <td>53</td>\n",
       "      <td>Torrington</td>\n",
       "      <td>CT</td>\n",
       "      <td>Litchfield</td>\n",
       "      <td>Torrington</td>\n",
       "      <td>CT</td>\n",
       "      <td>Litchfield</td>\n",
       "      <td>...</td>\n",
       "      <td>NaN</td>\n",
       "      <td>NaN</td>\n",
       "      <td>NaN</td>\n",
       "      <td>NaN</td>\n",
       "      <td>NaN</td>\n",
       "      <td>NaN</td>\n",
       "      <td>NaN</td>\n",
       "      <td>NaN</td>\n",
       "      <td>Accident</td>\n",
       "      <td>2017-01-02</td>\n",
       "    </tr>\n",
       "    <tr>\n",
       "      <th>4</th>\n",
       "      <td>2017-01-03</td>\n",
       "      <td>Female</td>\n",
       "      <td>White</td>\n",
       "      <td>45</td>\n",
       "      <td>New London</td>\n",
       "      <td>CT</td>\n",
       "      <td>New London</td>\n",
       "      <td>New London</td>\n",
       "      <td>CT</td>\n",
       "      <td>New London</td>\n",
       "      <td>...</td>\n",
       "      <td>NaN</td>\n",
       "      <td>NaN</td>\n",
       "      <td>NaN</td>\n",
       "      <td>NaN</td>\n",
       "      <td>NaN</td>\n",
       "      <td>NaN</td>\n",
       "      <td>NaN</td>\n",
       "      <td>NaN</td>\n",
       "      <td>Accident</td>\n",
       "      <td>2017-01-03</td>\n",
       "    </tr>\n",
       "  </tbody>\n",
       "</table>\n",
       "<p>5 rows × 36 columns</p>\n",
       "</div>"
      ],
      "text/plain": [
       "    Date Reported     Sex             Race Age Residence City Residence State  \\\n",
       "0      2017-01-01  Female            White  35       Prospect              CT   \n",
       "161    2017-01-02    Male  Hispanic, White  53       Hartford              CT   \n",
       "3      2017-01-02    Male            White  54         Hamden              CT   \n",
       "11     2017-01-02    Male            White  53     Torrington              CT   \n",
       "4      2017-01-03  Female            White  45     New London              CT   \n",
       "\n",
       "    Residence County  Death City Death State Death County    ...     Benzo's  \\\n",
       "0          New Haven     Bristol          CT     Hartford    ...         NaN   \n",
       "161         Hartford    Hartford          CT     Hartford    ...         NaN   \n",
       "3          New Haven   New Haven          CT    New Haven    ...         NaN   \n",
       "11        Litchfield  Torrington          CT   Litchfield    ...         NaN   \n",
       "4         New London  New London          CT   New London    ...         NaN   \n",
       "\n",
       "    Methadone Amphet Tramad Hydromorphone Morphine (not heroin) Other  \\\n",
       "0         NaN    NaN    NaN           NaN                   NaN   NaN   \n",
       "161       NaN    NaN    NaN           NaN                   NaN   NaN   \n",
       "3         NaN    NaN    NaN           NaN                   NaN   NaN   \n",
       "11        NaN    NaN    NaN           NaN                   NaN   NaN   \n",
       "4         NaN    NaN    NaN           NaN                   NaN   NaN   \n",
       "\n",
       "    Opiate NOS MannerofDeath   datetime  \n",
       "0          NaN      Accident 2017-01-01  \n",
       "161        NaN      Accident 2017-01-02  \n",
       "3          NaN      Accident 2017-01-02  \n",
       "11         NaN      Accident 2017-01-02  \n",
       "4          NaN      Accident 2017-01-03  \n",
       "\n",
       "[5 rows x 36 columns]"
      ]
     },
     "execution_count": 164,
     "metadata": {},
     "output_type": "execute_result"
    }
   ],
   "source": [
    "# Make sure OD2017 only includes 2017 \n",
    "OD2017.sort_values(by=\"datetime\",ascending=True).head()"
   ]
  },
  {
   "cell_type": "code",
   "execution_count": 169,
   "metadata": {
    "collapsed": false
   },
   "outputs": [],
   "source": [
    "OD2017[\"Residence City\"] = OD2017[\"Residence City\"].apply(lambda x: str(x).upper().strip())"
   ]
  },
  {
   "cell_type": "code",
   "execution_count": 175,
   "metadata": {
    "collapsed": false
   },
   "outputs": [
    {
     "data": {
      "text/plain": [
       "Male      777\n",
       "Female    260\n",
       "Name: Sex, dtype: int64"
      ]
     },
     "execution_count": 175,
     "metadata": {},
     "output_type": "execute_result"
    }
   ],
   "source": [
    "OD2017[\"Sex\"].value_counts()"
   ]
  },
  {
   "cell_type": "code",
   "execution_count": 179,
   "metadata": {
    "collapsed": false
   },
   "outputs": [
    {
     "data": {
      "text/plain": [
       "2.9884615384615385"
      ]
     },
     "execution_count": 179,
     "metadata": {},
     "output_type": "execute_result"
    }
   ],
   "source": [
    "float(OD2017[\"Sex\"].value_counts()[\"Male\"]) / float(OD2017[\"Sex\"].value_counts()[\"Female\"])"
   ]
  },
  {
   "cell_type": "code",
   "execution_count": 178,
   "metadata": {
    "collapsed": false
   },
   "outputs": [
    {
     "data": {
      "text/plain": [
       "2.681598062953995"
      ]
     },
     "execution_count": 178,
     "metadata": {},
     "output_type": "execute_result"
    }
   ],
   "source": [
    "float(OD[\"Sex\"].value_counts()[\"Male\"]) / float(OD[\"Sex\"].value_counts()[\"Female\"])"
   ]
  },
  {
   "cell_type": "code",
   "execution_count": 494,
   "metadata": {
    "collapsed": false
   },
   "outputs": [
    {
     "data": {
      "text/plain": [
       "White                     2430\n",
       "Hispanic, White            318\n",
       "Black                      241\n",
       "Unknown                     13\n",
       "Asian, Other                11\n",
       "Hispanic, Black              9\n",
       "Other                        6\n",
       "Asian Indian                 3\n",
       "Chinese                      2\n",
       "Native American, Other       1\n",
       "Hawaiian                     1\n",
       "Name: Race, dtype: int64"
      ]
     },
     "execution_count": 494,
     "metadata": {},
     "output_type": "execute_result"
    }
   ],
   "source": [
    "OD[\"Race\"].value_counts()"
   ]
  },
  {
   "cell_type": "code",
   "execution_count": 495,
   "metadata": {
    "collapsed": false
   },
   "outputs": [],
   "source": [
    "def race_eth(racestr):\n",
    "    clean = str(racestr).upper().strip()\n",
    "    if \"HISPANIC\" in clean: return \"Hispanic\"\n",
    "    if \"WHITE\" in clean: return \"White\"\n",
    "    if \"BLACK\" in clean: return \"Black\"\n",
    "    return \"Other\""
   ]
  },
  {
   "cell_type": "code",
   "execution_count": null,
   "metadata": {
    "collapsed": true
   },
   "outputs": [],
   "source": []
  },
  {
   "cell_type": "code",
   "execution_count": 496,
   "metadata": {
    "collapsed": false
   },
   "outputs": [],
   "source": [
    "OD[\"race_eth\"] = OD[\"Race\"].apply(race_eth)\n",
    "OD2017[\"race_eth\"] = OD2017[\"Race\"].apply(race_eth)"
   ]
  },
  {
   "cell_type": "code",
   "execution_count": 194,
   "metadata": {
    "collapsed": false
   },
   "outputs": [],
   "source": [
    "towns = pops.index.unique()"
   ]
  },
  {
   "cell_type": "markdown",
   "metadata": {},
   "source": [
    "### Clean town names\n",
    "\n",
    "Adjusted for population."
   ]
  },
  {
   "cell_type": "code",
   "execution_count": 198,
   "metadata": {
    "collapsed": false
   },
   "outputs": [
    {
     "data": {
      "text/plain": [
       "CT    955\n",
       "Name: Residence State, dtype: int64"
      ]
     },
     "execution_count": 198,
     "metadata": {},
     "output_type": "execute_result"
    }
   ],
   "source": [
    "OD2017[\"Residence State\"].value_counts()\n",
    "\n",
    "town_report = OD2017[OD2017[\"Residence State\"] == \"CT\"]\n",
    "\n",
    "town_report[\"Residence State\"].value_counts()"
   ]
  },
  {
   "cell_type": "code",
   "execution_count": 199,
   "metadata": {
    "collapsed": false
   },
   "outputs": [
    {
     "data": {
      "text/plain": [
       "1038"
      ]
     },
     "execution_count": 199,
     "metadata": {},
     "output_type": "execute_result"
    }
   ],
   "source": [
    "len(OD2017)"
   ]
  },
  {
   "cell_type": "code",
   "execution_count": 200,
   "metadata": {
    "collapsed": false
   },
   "outputs": [
    {
     "data": {
      "text/plain": [
       "CT    955\n",
       "MA     10\n",
       "NY     10\n",
       "RI      2\n",
       "NJ      2\n",
       "SD      1\n",
       "SC      1\n",
       "IL      1\n",
       "AL      1\n",
       "CA      1\n",
       "CO      1\n",
       "PA      1\n",
       "TX      1\n",
       "FL      1\n",
       "Name: Residence State, dtype: int64"
      ]
     },
     "execution_count": 200,
     "metadata": {},
     "output_type": "execute_result"
    }
   ],
   "source": [
    "OD2017[\"Residence State\"].value_counts()"
   ]
  },
  {
   "cell_type": "code",
   "execution_count": 312,
   "metadata": {
    "collapsed": false
   },
   "outputs": [
    {
     "name": "stdout",
     "output_type": "stream",
     "text": [
      "SUDBURY\n",
      "STAFFORD SPRINGS\n",
      "AMSTON\n",
      "BREWSTER\n",
      "BROAD BROOK\n",
      "UNCASVILLE\n",
      "PALMER\n",
      "TARIFFVILLE\n",
      "MOOSUP\n",
      "WINGDALE\n",
      "JEWETT CITY\n",
      "SOUTH GLASTONBURY\n",
      "HURLEY\n",
      "nan\n",
      "nan\n",
      "nan\n",
      "STANFORDVILLE\n",
      "ALFRED STATION\n",
      "nan\n",
      "nan\n",
      "WILLACOOCHEE\n",
      "MYSTIC\n",
      "COLUMBUS\n",
      "ARLINGTON HEIGHTS\n",
      "ONECO\n",
      "AVENTURA\n",
      "NEW BEDFORD\n",
      "WILLIMANTIC\n",
      "RYE\n",
      "GALES FERRY\n",
      "EAST CANAAN\n",
      "NEW CASTLE\n",
      "NIANTIC\n",
      "WILLIMANTIC\n",
      "NEW BRIT\n",
      "MOOSUP\n",
      "nan\n",
      "JEWETT CITY\n",
      "PAWCATUCK\n",
      "WINSTED\n",
      "nan\n",
      "nan\n",
      "NIANTIC\n",
      "HANCOCK\n",
      "DOVER PLAINS\n",
      "DANIELSON\n",
      "STAFFORD SPGS\n",
      "nan\n",
      "SAKEM\n",
      "WINSTED\n",
      "UNIONVILLE\n",
      "TAFTVILLE\n",
      "nan\n",
      "OAKVILLE\n",
      "nan\n",
      "nan\n",
      "S GLASTONBURY\n",
      "STAFFORD SPRINGS\n",
      "nan\n",
      "N HAVEN\n",
      "ROCKVILLE\n",
      "WILLIMANTIC\n",
      "OSHKOSH\n",
      "PITTSBURGH\n",
      "NORTH GROSVENORDALE\n",
      "nan\n",
      "nan\n",
      "nan\n",
      "ROCKVILLE\n",
      "nan\n",
      "nan\n",
      "nan\n",
      "WELLESLEY\n",
      "JASPER\n",
      "nan\n",
      "nan\n",
      "UNIONVILLE\n",
      "NO HAVEN\n",
      "MYSTIC\n",
      "DANIELSON\n",
      "BALTIC\n",
      "nan\n",
      "nan\n",
      "TARIFFVILLE\n",
      "PORTCHESTER\n",
      "OAKDALE\n",
      "GALES FERRY\n",
      "IVORYTON\n",
      "nan\n",
      "nan\n",
      "FLUSHING\n",
      "SAUGUS\n",
      "nan\n",
      "OAKDALE\n",
      "JEWETT CITY\n",
      "nan\n",
      "DAYVILLE\n",
      "PAWCATUCK\n",
      "WILLIMANTIC\n",
      "NEW YORK\n",
      "nan\n",
      "UNCASVILLE\n",
      "NORTHFORD\n",
      "VERNON ROCKVL\n",
      "nan\n",
      "OAKDALE\n",
      "MOOSUP\n",
      "OAKVILLE\n",
      "NEW YORK\n",
      "WILLIMANTIC\n",
      "nan\n",
      "nan\n",
      "DEER LODGE\n",
      "VINE GROVE\n",
      "TERRYVILLE\n",
      "RYE\n",
      "PORT CHESTER\n",
      "nan\n",
      "nan\n",
      "nan\n",
      "NORTH SALEM\n",
      "WATERBRUY\n",
      "nan\n",
      "DANIELSON\n",
      "UNCASVILLE\n",
      "WINSTED\n",
      "DANIELSON\n",
      "WILLIMANTIC\n",
      "HANOVER\n",
      "TERRYVILLE\n",
      "QUAKER HILL\n",
      "WINSTED\n",
      "nan\n",
      "ZIONSVILLE\n",
      "nan\n",
      "KINGSTON\n",
      "nan\n",
      "NAPLES\n",
      "ROGERS\n",
      "nan\n",
      "DAYVILLE\n",
      "nan\n",
      "WINSTED\n",
      "OLD GREENWICH\n",
      "DAYVILLE\n",
      "nan\n",
      "nan\n",
      "UNCASVILLE\n",
      "UNCASVILLE\n",
      "WINSTED\n",
      "nan\n",
      "nan\n",
      "ALLSTON\n",
      "EAST BERLIN\n",
      "MOODUS\n",
      "FALLS VILLAGE\n",
      "nan\n",
      "MOOSUP\n",
      "GALES FERRY\n",
      "KENSINGTON\n",
      "JEWETT CITY\n",
      "nan\n",
      "WILLIMANTIC\n",
      "nan\n",
      "SARATOGA SPGS\n",
      "HAMPTON BAYS\n",
      "TERRYVILLE\n",
      "TERRYVILLE\n",
      "OAKVILLE\n",
      "W HAVEN\n",
      "STAFFORD SPRINGS\n",
      "nan\n",
      "CHARLESTOWN\n",
      "TERRYVILLE\n",
      "PLANTSVILLE\n",
      "CHICOPEE\n",
      "SANDY HOOK\n",
      "STAFFORD SPRINGS\n",
      "nan\n",
      "JEWETT CITY\n",
      "HAWAIIAN GARDENS\n",
      "INVER GROVE HEIGHTS\n",
      "WILLIMANTIC\n",
      "WEATOGUE\n",
      "TACONIC\n",
      "ASTORIA\n",
      "nan\n",
      "N HAVEN\n",
      "CHESAPEAKE\n",
      "IVORYTON\n",
      "DANIELSON\n",
      "MAPLEWOOD\n",
      "LA PLACE\n",
      "NEW YORK\n",
      "STAFFORD SPGS\n",
      "NIANTIC\n",
      "OAKDALE\n",
      "PORT CHESTER\n",
      "MILLERTON\n",
      "UNCASVILLE\n",
      "NUTLEY\n",
      "nan\n",
      "OAKVILLE\n",
      "PAWTUCKET\n",
      "TERRYVILLE\n",
      "nan\n",
      "ROGERS\n",
      "MAHOPAC\n",
      "WINSTED\n",
      "WINSTED\n",
      "OAKVILLE\n",
      "HAMILTON\n",
      "UNCASVILLE\n",
      "JEWETT CITY\n",
      "nan\n",
      "nan\n",
      "WINGDALE\n",
      "EAST WOODSTOCK\n",
      "EAST MEADOW\n",
      "UNCASVILLE\n",
      "PAWCATUCK\n",
      "JEWETT CITY\n",
      "JEWETT CITY\n",
      "nan\n",
      "TERRYVILLE\n",
      "EAST HARTLAND\n",
      "nan\n",
      "MOODUS\n",
      "QUINCY\n",
      "BALTIC\n",
      "WEST  HAVEN\n",
      "GRANVILLE\n",
      "nan\n",
      "WILLIMANTIC\n",
      "nan\n",
      "COLLINSVILLE\n",
      "OAKDALE\n",
      "PAWCATUCK\n",
      "W HAVEN\n",
      "SANTA CRUZ\n",
      "BASS HARBOR\n",
      "nan\n",
      "N HAVEN\n",
      "QUINEBAUG\n",
      "JEWETT CITY\n",
      "UNCASVILLE\n",
      "nan\n",
      "SOUTH LYME\n",
      "NIANTIC\n",
      "WILLIMANTIC\n",
      "WILLIMANTIC\n",
      "nan\n",
      "nan\n",
      "ORLANDO\n",
      "BROAD BROOK\n",
      "GROTON LONG POINT\n",
      "WILLIMANTIC\n",
      "WEBSTER\n",
      "BALTIC\n",
      "UNCASVILLE\n",
      "PLANTSVILLE\n",
      "STAFFORD SPRINGS\n",
      "nan\n",
      "UNCASVILLE\n",
      "KNOXVILLE\n",
      "WILLIMANTIC\n",
      "MOOSUP\n",
      "N HAVEN\n",
      "NIANTIC\n",
      "DAYVILLE\n",
      "DANIELSON\n",
      "OAKVILLE\n",
      "SANDY HOOK\n",
      "PAWCATUCK\n",
      "nan\n",
      "ORLANDO\n",
      "MELROSE\n",
      "MOOSUP\n",
      "WILLIMANTIC\n",
      "PLANTSVILLE\n",
      "TERRYVILLE\n",
      "SANDY HOOK\n",
      "OAKDALE\n",
      "nan\n",
      "nan\n",
      "JEWETT CITY\n",
      "WILLIMANTIC\n",
      "GALES FERRY\n",
      "PARMA\n",
      "STAFFORD SPRINGS\n",
      "JACKSON\n",
      "HOUSTON\n",
      "OAKDALE\n",
      "PASSAIC\n",
      "YORKTOWN HEIGHTS\n",
      "BANTAM\n",
      "TERRYVILLE\n",
      "KINGWOOD\n",
      "nan\n",
      "nan\n",
      "WHITE PLAINS\n",
      "HIGGANUM\n",
      "MYSTIC\n",
      "nan\n",
      "nan\n",
      "nan\n",
      "UNCASVILLE\n",
      "N HAVEN\n",
      "OAKVILLE\n",
      "WILLISTON PARK\n",
      "NEWFIELD\n",
      "SOUTHPORT\n",
      "MT VERNON\n",
      "WILLIMANTIC\n",
      "OAKVILLE\n",
      "nan\n",
      "TERRYVILLE\n",
      "CLERMONT\n",
      "nan\n",
      "RYE\n",
      "STAFFORD SPRINGS\n",
      "DAYVILLE\n",
      "PAWCATUCK\n",
      "NEWPORT\n",
      "nan\n",
      "nan\n",
      "MILLDALE\n",
      "OAKVILLE\n",
      "nan\n",
      "nan\n",
      "TERRYVILLE\n",
      "UNCASVILLE\n",
      "UNCASVILLE\n",
      "WILLIMANTIC\n",
      "LEOMINSTER\n",
      "nan\n",
      "nan\n",
      "OAKVILLE\n",
      "nan\n",
      "DANIELSON\n",
      "MOOSUP\n",
      "IVORYTON\n",
      "nan\n",
      "WILLIMANTIC\n",
      "WILLIMANTIC\n",
      "UNCASVILLE\n",
      "BALTIC\n",
      "QUAKER HILL\n",
      "NOANK\n",
      "RED HOOK\n",
      "N HAVEN\n",
      "WILLIMANTIC\n",
      "nan\n",
      "DAYVILLE\n",
      "HIGHLAND\n",
      "TARIFFVILLE\n",
      "PITTSFIELD\n",
      "nan\n",
      "SAUGUS\n",
      "nan\n",
      "TERRYVILLE\n",
      "WILLIMANTIC\n",
      "JEWETT CITY\n",
      "CHEPACHET\n",
      "QUAKER HILL\n",
      "VINELAND\n",
      "nan\n",
      "COS COB\n",
      "TERRYVILLE\n",
      "JEWETT CITY\n",
      "HODGDON\n",
      "CLAREMORE\n",
      "RICHMOND\n",
      "nan\n",
      "MILLIKEN\n",
      "NORTHFORD\n",
      "WINSTED\n",
      "nan\n",
      "VANDERGRIFT\n",
      "CHELSEA\n",
      "MOOSUP\n",
      "WILLIMANTIC\n",
      "BROAD BROOK\n",
      "nan\n",
      "DOVER PLAINS\n",
      "nan\n",
      "nan\n",
      "WEST SUFFIELD\n",
      "WINSTED\n",
      "ROCKVILLE\n",
      "nan\n",
      "UNKNOWN\n",
      "NISKAYUNA\n",
      "OAKVILLE\n",
      "VERNON-ROCKVILLE\n",
      "ROSLINDALE\n",
      "UNKNOWN\n",
      "UNKNOWN\n",
      "UNKNOWN\n",
      "AMENIA\n",
      "NIANTIC\n",
      "WILLIMANTIC\n",
      "NAN\n",
      "SOUTH GLASTONBURY\n",
      "UNKNOWN\n",
      "ROCKFALL\n",
      "JEWETT CITY\n",
      "UNIONVILLE\n",
      "STAFFORD SPRINGS\n",
      "MYSTIC\n",
      "WILLIMANTIC\n",
      "MOUNT VERNON\n",
      "NAN\n",
      "WINSTED\n",
      "SEBRING\n",
      "UNKNOWN\n",
      "YANKTON\n",
      "MOOSUP\n",
      "CORNWALL BRIDGE\n",
      "DANIELSON\n",
      "NAN\n",
      "NAN\n",
      "NAN\n",
      "HASTINGS-ON-HUDSON\n",
      "LONGS\n",
      "NAN\n",
      "NAN\n",
      "PORT CHESTER\n",
      "DANIELSON\n",
      "ONECO\n",
      "SAUGUS\n",
      "NAN\n",
      "NAN\n",
      "JEWETT CITY\n",
      "NAN\n",
      "WINSTED\n",
      "NAN\n",
      "LAKEWOOD\n",
      "NAN\n",
      "PORT READING\n",
      "WINSTED\n",
      "NAN\n",
      "WESTFIELD\n",
      "KENSINGTON\n",
      "NAN\n",
      "NAN\n",
      "NAN\n",
      "JEWETT CITY\n",
      "NAN\n",
      "NORTHFORD\n",
      "WILLIMANTIC\n",
      "NAN\n",
      "NAN\n",
      "WILLIMANTIC\n",
      "NEW PRESTON\n",
      "NAN\n",
      "NORTH GROSVENORDALE\n",
      "BLANDFORD\n",
      "NAN\n",
      "ROCKVILLE\n",
      "NAN\n",
      "BELCHERTOWN\n",
      "WILLIMANTIC\n",
      "GREENFIELD\n",
      "PLANTSVILLE\n",
      "PAWCATUCK\n",
      "NAN\n",
      "NAN\n",
      "JEWETT CITY\n",
      "TERRYVILLE\n",
      "WILLIMANTIC\n",
      "TERRYVILLE\n",
      "ASTORIA\n",
      "NAN\n",
      "WEST SPRINGFIELD\n",
      "NAN\n",
      "MOODUS\n",
      "NAN\n",
      "DAYVILLE\n",
      "MYSTIC\n",
      "SOUTH SALEM\n",
      "NAN\n",
      "WILLIMANTIC\n",
      "SULLIVAN\n",
      "NAN\n",
      "NAN\n",
      "NEWARK\n",
      "NAN\n",
      "HOLLAND\n",
      "ELLENBURG DEPOT\n",
      "MOODUS\n",
      "VERNON-ROCKVILLE\n",
      "NAN\n",
      "NAN\n",
      "NAN\n",
      "NAN\n",
      "JEWETT CITY\n",
      "COSTA MESA\n",
      "STORRS\n",
      "WILLIMANTIC\n",
      "JEWETT CITY\n",
      "PASCOAG\n",
      "STORRS\n",
      "MOOSUP\n",
      "PITTSFIELD\n",
      "WINSTED\n",
      "DANIELSON\n",
      "BRONX\n",
      "TERRYVILLE\n",
      "NAN\n",
      "WEST SUFFIELD\n",
      "COS COB\n",
      "WILLIMANTIC\n",
      "NAN\n",
      "NAN\n",
      "WINDBER\n",
      "HOUSTON\n",
      "KENSINGTON\n",
      "NAN\n",
      "PLANTSVILLE\n",
      "NAN\n",
      "NAN\n",
      "TERRYVILLE\n",
      "WINSTED\n",
      "FALL RIVER\n",
      "DAYVILLE\n",
      "NAN\n",
      "MOOSUP\n",
      "JEWETT CITY\n",
      "CRAGFORD\n",
      "NISSEQUOGUE\n"
     ]
    }
   ],
   "source": [
    "# Look for any towns not in census\n",
    "def print_problem_names(df,col=\"Residence City\"):\n",
    "    for t in df[col]:\n",
    "        if t not in towns: print t\n",
    "            \n",
    "print_problem_names(town_report)"
   ]
  },
  {
   "cell_type": "code",
   "execution_count": 206,
   "metadata": {
    "collapsed": false
   },
   "outputs": [
    {
     "data": {
      "text/plain": [
       "Index([u'COUNTY SUBDIVISIONS NOT DEFINED, FAIRFIELD COUNTY, CONNECTICUT',\n",
       "       u'BETHEL', u'BRIDGEPORT', u'BROOKFIELD', u'DANBURY', u'DARIEN',\n",
       "       u'EASTON', u'FAIRFIELD', u'GREENWICH', u'MONROE',\n",
       "       ...\n",
       "       u'HAMPTON', u'KILLINGLY', u'PLAINFIELD', u'POMFRET', u'PUTNAM',\n",
       "       u'SCOTLAND', u'STERLING', u'THOMPSON', u'WINDHAM', u'WOODSTOCK'],\n",
       "      dtype='object', length=173)"
      ]
     },
     "execution_count": 206,
     "metadata": {},
     "output_type": "execute_result"
    }
   ],
   "source": [
    "towns[towns.contain]"
   ]
  },
  {
   "cell_type": "code",
   "execution_count": 238,
   "metadata": {
    "collapsed": false
   },
   "outputs": [
    {
     "data": {
      "text/html": [
       "<div>\n",
       "<table border=\"1\" class=\"dataframe\">\n",
       "  <thead>\n",
       "    <tr style=\"text-align: right;\">\n",
       "      <th></th>\n",
       "      <th>name</th>\n",
       "      <th>real_name</th>\n",
       "    </tr>\n",
       "  </thead>\n",
       "  <tbody>\n",
       "    <tr>\n",
       "      <th>0</th>\n",
       "      <td>ABINGTON</td>\n",
       "      <td>POMFRET</td>\n",
       "    </tr>\n",
       "    <tr>\n",
       "      <th>1</th>\n",
       "      <td>ADDISON</td>\n",
       "      <td>GLASTONBURY</td>\n",
       "    </tr>\n",
       "    <tr>\n",
       "      <th>2</th>\n",
       "      <td>ALLENTOWN</td>\n",
       "      <td>PLYMOUTH</td>\n",
       "    </tr>\n",
       "    <tr>\n",
       "      <th>3</th>\n",
       "      <td>ALLINGTOWN</td>\n",
       "      <td>WEST HAVEN</td>\n",
       "    </tr>\n",
       "    <tr>\n",
       "      <th>4</th>\n",
       "      <td>ALMYVILLE</td>\n",
       "      <td>PLAINFIELD</td>\n",
       "    </tr>\n",
       "  </tbody>\n",
       "</table>\n",
       "</div>"
      ],
      "text/plain": [
       "         name    real_name\n",
       "0    ABINGTON      POMFRET\n",
       "1     ADDISON  GLASTONBURY\n",
       "2   ALLENTOWN     PLYMOUTH\n",
       "3  ALLINGTOWN   WEST HAVEN\n",
       "4   ALMYVILLE   PLAINFIELD"
      ]
     },
     "execution_count": 238,
     "metadata": {},
     "output_type": "execute_result"
    }
   ],
   "source": [
    "# Fix town names\n",
    "town_aliases = pd.read_csv(\"https://docs.google.com/spreadsheets/d/1WqZIGk2AkHXKYvd4uXy5a2nwyg5\\\n",
    "29e7mMU5610Ale0g/pub?gid=0&single=true&output=csv\")\n",
    "town_aliases.columns = [\"name\",\"real_name\"]\n",
    "town_aliases.head()"
   ]
  },
  {
   "cell_type": "code",
   "execution_count": 259,
   "metadata": {
    "collapsed": false
   },
   "outputs": [
    {
     "name": "stderr",
     "output_type": "stream",
     "text": [
      "/usr/local/lib/python2.7/site-packages/ipykernel/__main__.py:10: SettingWithCopyWarning: \n",
      "A value is trying to be set on a copy of a slice from a DataFrame.\n",
      "Try using .loc[row_indexer,col_indexer] = value instead\n",
      "\n",
      "See the caveats in the documentation: http://pandas.pydata.org/pandas-docs/stable/indexing.html#indexing-view-versus-copy\n"
     ]
    }
   ],
   "source": [
    "def clean_town_name(town_name):\n",
    "    tmp = str(town_name).strip().upper()\n",
    "    \n",
    "    # QUICK FIX: Will have to add to name alias spreadsheet\n",
    "    if tmp == \"VERNON-ROCKVILLE\": return \"VERNON\"\n",
    "    \n",
    "    if tmp not in town_aliases[\"name\"].unique(): \n",
    "        return tmp\n",
    "    return town_aliases[town_aliases[\"name\"] == tmp].iloc[0][\"real_name\"]\n",
    "\n",
    "town_report[\"TOWN\"] = town_report[\"Residence City\"].apply(clean_town_name)"
   ]
  },
  {
   "cell_type": "code",
   "execution_count": 315,
   "metadata": {
    "collapsed": false
   },
   "outputs": [],
   "source": [
    "#print_problem_names(town_report,\"TOWN\")"
   ]
  },
  {
   "cell_type": "markdown",
   "metadata": {},
   "source": [
    "### Create town report"
   ]
  },
  {
   "cell_type": "code",
   "execution_count": 292,
   "metadata": {
    "collapsed": false
   },
   "outputs": [],
   "source": [
    "town_report = pd.concat([OD[[\"datetime\",\"Residence City\",\"Residence State\"]],\n",
    "                        OD2017[[\"datetime\",\"Residence City\",\"Residence State\"]]])"
   ]
  },
  {
   "cell_type": "code",
   "execution_count": 294,
   "metadata": {
    "collapsed": false
   },
   "outputs": [
    {
     "data": {
      "text/plain": [
       "4081"
      ]
     },
     "execution_count": 294,
     "metadata": {},
     "output_type": "execute_result"
    }
   ],
   "source": [
    "len(town_report)"
   ]
  },
  {
   "cell_type": "code",
   "execution_count": 295,
   "metadata": {
    "collapsed": false
   },
   "outputs": [
    {
     "data": {
      "text/plain": [
       "CT    2054\n",
       "NY      18\n",
       "MA      18\n",
       "NJ       5\n",
       "FL       4\n",
       "CA       2\n",
       "IL       2\n",
       "TX       2\n",
       "RI       2\n",
       "SC       1\n",
       "CO       1\n",
       "AL       1\n",
       "SD       1\n",
       "MN       1\n",
       "LA       1\n",
       "PA       1\n",
       "OH       1\n",
       "GA       1\n",
       "Name: Residence State, dtype: int64"
      ]
     },
     "execution_count": 295,
     "metadata": {},
     "output_type": "execute_result"
    }
   ],
   "source": [
    "town_report[\"Residence State\"].value_counts()"
   ]
  },
  {
   "cell_type": "code",
   "execution_count": 353,
   "metadata": {
    "collapsed": false
   },
   "outputs": [
    {
     "data": {
      "text/plain": [
       "1038"
      ]
     },
     "execution_count": 353,
     "metadata": {},
     "output_type": "execute_result"
    }
   ],
   "source": [
    "# Make sure we didn't duplicate anything \n",
    "len(town_report[town_report[\"datetime\"] >= datetime(2017,1,1)])"
   ]
  },
  {
   "cell_type": "code",
   "execution_count": 354,
   "metadata": {
    "collapsed": false
   },
   "outputs": [],
   "source": [
    "town_report[\"year\"] = town_report[\"datetime\"].apply(lambda x: x.year)"
   ]
  },
  {
   "cell_type": "code",
   "execution_count": 355,
   "metadata": {
    "collapsed": false
   },
   "outputs": [
    {
     "data": {
      "text/html": [
       "<div>\n",
       "<table border=\"1\" class=\"dataframe\">\n",
       "  <thead>\n",
       "    <tr style=\"text-align: right;\">\n",
       "      <th></th>\n",
       "      <th>year</th>\n",
       "    </tr>\n",
       "    <tr>\n",
       "      <th>year</th>\n",
       "      <th></th>\n",
       "    </tr>\n",
       "  </thead>\n",
       "  <tbody>\n",
       "    <tr>\n",
       "      <th>2012</th>\n",
       "      <td>355</td>\n",
       "    </tr>\n",
       "    <tr>\n",
       "      <th>2013</th>\n",
       "      <td>490</td>\n",
       "    </tr>\n",
       "    <tr>\n",
       "      <th>2014</th>\n",
       "      <td>558</td>\n",
       "    </tr>\n",
       "    <tr>\n",
       "      <th>2015</th>\n",
       "      <td>723</td>\n",
       "    </tr>\n",
       "    <tr>\n",
       "      <th>2016</th>\n",
       "      <td>917</td>\n",
       "    </tr>\n",
       "    <tr>\n",
       "      <th>2017</th>\n",
       "      <td>1038</td>\n",
       "    </tr>\n",
       "  </tbody>\n",
       "</table>\n",
       "</div>"
      ],
      "text/plain": [
       "      year\n",
       "year      \n",
       "2012   355\n",
       "2013   490\n",
       "2014   558\n",
       "2015   723\n",
       "2016   917\n",
       "2017  1038"
      ]
     },
     "execution_count": 355,
     "metadata": {},
     "output_type": "execute_result"
    }
   ],
   "source": [
    "town_report.groupby(\"year\").agg({\"year\":np.size})"
   ]
  },
  {
   "cell_type": "code",
   "execution_count": 370,
   "metadata": {
    "collapsed": false
   },
   "outputs": [],
   "source": [
    "ct_town_report = town_report[((town_report[\"Residence State\"].isnull()) | (town_report[\"Residence State\"] == \"CT\")) & (town_report[\"Residence City\"].notnull())]"
   ]
  },
  {
   "cell_type": "code",
   "execution_count": 371,
   "metadata": {
    "collapsed": false
   },
   "outputs": [
    {
     "name": "stderr",
     "output_type": "stream",
     "text": [
      "/usr/local/lib/python2.7/site-packages/ipykernel/__main__.py:1: SettingWithCopyWarning: \n",
      "A value is trying to be set on a copy of a slice from a DataFrame.\n",
      "Try using .loc[row_indexer,col_indexer] = value instead\n",
      "\n",
      "See the caveats in the documentation: http://pandas.pydata.org/pandas-docs/stable/indexing.html#indexing-view-versus-copy\n",
      "  if __name__ == '__main__':\n"
     ]
    }
   ],
   "source": [
    "ct_town_report[\"TOWN\"] = ct_town_report[\"Residence City\"].apply(clean_town_name)"
   ]
  },
  {
   "cell_type": "code",
   "execution_count": 372,
   "metadata": {
    "collapsed": false
   },
   "outputs": [
    {
     "name": "stdout",
     "output_type": "stream",
     "text": [
      "SUDBURY\n",
      "PALMER\n",
      "HURLEY\n",
      "STANFORDVILLE\n",
      "ALFRED STATION\n",
      "WILLACOOCHEE\n",
      "AVENTURA\n",
      "NEW BEDFORD\n",
      "RYE\n",
      "NEW CASTLE\n",
      "DOVER PLAINS\n",
      "SAKEM\n",
      "OSHKOSH\n",
      "PITTSBURGH\n",
      "WELLESLEY\n",
      "JASPER\n",
      "PORTCHESTER\n",
      "FLUSHING\n",
      "NEW YORK\n",
      "NEW YORK\n",
      "DEER LODGE\n",
      "VINE GROVE\n",
      "RYE\n",
      "PORT CHESTER\n",
      "NORTH SALEM\n",
      "ZIONSVILLE\n",
      "KINGSTON\n",
      "ALLSTON\n",
      "SARATOGA SPGS\n",
      "HAMPTON BAYS\n",
      "CHARLESTOWN\n",
      "ASTORIA\n",
      "CHESAPEAKE\n",
      "PORT CHESTER\n",
      "MILLERTON\n",
      "PAWTUCKET\n",
      "MAHOPAC\n",
      "HAMILTON\n",
      "WINGDALE\n",
      "EAST MEADOW\n",
      "QUINCY\n",
      "WEST  HAVEN\n",
      "GRANVILLE\n",
      "SANTA CRUZ\n",
      "BASS HARBOR\n",
      "KNOXVILLE\n",
      "ORLANDO\n",
      "JACKSON\n",
      "HOUSTON\n",
      "PASSAIC\n",
      "WHITE PLAINS\n",
      "NEWPORT\n",
      "RED HOOK\n",
      "CHEPACHET\n",
      "HODGDON\n",
      "CLAREMORE\n",
      "RICHMOND\n",
      "MILLIKEN\n",
      "VANDERGRIFT\n",
      "UNKNOWN\n",
      "UNKNOWN\n",
      "UNKNOWN\n",
      "UNKNOWN\n",
      "NAN\n",
      "UNKNOWN\n",
      "NAN\n",
      "UNKNOWN\n",
      "NAN\n",
      "NAN\n",
      "NAN\n",
      "NAN\n",
      "NAN\n",
      "NAN\n",
      "NAN\n",
      "NAN\n",
      "NAN\n",
      "NAN\n",
      "NAN\n",
      "NAN\n",
      "NAN\n",
      "NAN\n",
      "NAN\n",
      "NAN\n",
      "NAN\n",
      "NAN\n",
      "NAN\n",
      "NAN\n",
      "NAN\n",
      "NAN\n",
      "NAN\n",
      "NAN\n",
      "NAN\n",
      "NAN\n",
      "NAN\n",
      "NAN\n",
      "NAN\n",
      "NAN\n",
      "NAN\n",
      "NAN\n",
      "NAN\n",
      "NAN\n",
      "NAN\n",
      "NAN\n",
      "NAN\n",
      "NAN\n",
      "NAN\n",
      "NAN\n"
     ]
    }
   ],
   "source": [
    "ct_town_report = ct_town_report[ct_town_report[\"TOWN\"].notnull()]\n",
    "print_problem_names(ct_town_report, \"TOWN\")"
   ]
  },
  {
   "cell_type": "code",
   "execution_count": 373,
   "metadata": {
    "collapsed": false
   },
   "outputs": [],
   "source": [
    "# Drop the problematic towns\n",
    "ct_town_report = ct_town_report[ct_town_report[\"TOWN\"].apply(lambda x: x in towns)]"
   ]
  },
  {
   "cell_type": "code",
   "execution_count": 374,
   "metadata": {
    "collapsed": false
   },
   "outputs": [],
   "source": [
    "print_problem_names(ct_town_report,\"TOWN\")"
   ]
  },
  {
   "cell_type": "code",
   "execution_count": 375,
   "metadata": {
    "collapsed": false
   },
   "outputs": [
    {
     "data": {
      "text/plain": [
       "3821"
      ]
     },
     "execution_count": 375,
     "metadata": {},
     "output_type": "execute_result"
    }
   ],
   "source": [
    "len(ct_town_report)"
   ]
  },
  {
   "cell_type": "code",
   "execution_count": 376,
   "metadata": {
    "collapsed": false
   },
   "outputs": [
    {
     "data": {
      "text/plain": [
       "162"
      ]
     },
     "execution_count": 376,
     "metadata": {},
     "output_type": "execute_result"
    }
   ],
   "source": [
    "# We have data on this many towns\n",
    "len(ct_town_report[\"TOWN\"].unique())"
   ]
  },
  {
   "cell_type": "code",
   "execution_count": 377,
   "metadata": {
    "collapsed": true
   },
   "outputs": [],
   "source": [
    "# that's pretty close to 169"
   ]
  },
  {
   "cell_type": "code",
   "execution_count": 378,
   "metadata": {
    "collapsed": false
   },
   "outputs": [
    {
     "data": {
      "text/html": [
       "<div>\n",
       "<table border=\"1\" class=\"dataframe\">\n",
       "  <thead>\n",
       "    <tr style=\"text-align: right;\">\n",
       "      <th></th>\n",
       "      <th>datetime</th>\n",
       "      <th>Residence City</th>\n",
       "      <th>Residence State</th>\n",
       "      <th>year</th>\n",
       "      <th>TOWN</th>\n",
       "    </tr>\n",
       "  </thead>\n",
       "  <tbody>\n",
       "    <tr>\n",
       "      <th>0</th>\n",
       "      <td>2013-11-09</td>\n",
       "      <td>GROTON</td>\n",
       "      <td>NaN</td>\n",
       "      <td>2013</td>\n",
       "      <td>GROTON</td>\n",
       "    </tr>\n",
       "    <tr>\n",
       "      <th>1</th>\n",
       "      <td>2012-12-29</td>\n",
       "      <td>WOLCOTT</td>\n",
       "      <td>NaN</td>\n",
       "      <td>2012</td>\n",
       "      <td>WOLCOTT</td>\n",
       "    </tr>\n",
       "    <tr>\n",
       "      <th>2</th>\n",
       "      <td>2014-02-18</td>\n",
       "      <td>ENFIELD</td>\n",
       "      <td>NaN</td>\n",
       "      <td>2014</td>\n",
       "      <td>ENFIELD</td>\n",
       "    </tr>\n",
       "    <tr>\n",
       "      <th>3</th>\n",
       "      <td>2014-09-07</td>\n",
       "      <td>WALLINGFORD</td>\n",
       "      <td>NaN</td>\n",
       "      <td>2014</td>\n",
       "      <td>WALLINGFORD</td>\n",
       "    </tr>\n",
       "    <tr>\n",
       "      <th>4</th>\n",
       "      <td>2013-10-04</td>\n",
       "      <td>WEST HAVEN</td>\n",
       "      <td>NaN</td>\n",
       "      <td>2013</td>\n",
       "      <td>WEST HAVEN</td>\n",
       "    </tr>\n",
       "  </tbody>\n",
       "</table>\n",
       "</div>"
      ],
      "text/plain": [
       "    datetime Residence City Residence State  year         TOWN\n",
       "0 2013-11-09         GROTON             NaN  2013       GROTON\n",
       "1 2012-12-29        WOLCOTT             NaN  2012      WOLCOTT\n",
       "2 2014-02-18        ENFIELD             NaN  2014      ENFIELD\n",
       "3 2014-09-07    WALLINGFORD             NaN  2014  WALLINGFORD\n",
       "4 2013-10-04     WEST HAVEN             NaN  2013   WEST HAVEN"
      ]
     },
     "execution_count": 378,
     "metadata": {},
     "output_type": "execute_result"
    }
   ],
   "source": [
    "ct_town_report.head()"
   ]
  },
  {
   "cell_type": "code",
   "execution_count": 379,
   "metadata": {
    "collapsed": false
   },
   "outputs": [
    {
     "data": {
      "text/html": [
       "<div>\n",
       "<table border=\"1\" class=\"dataframe\">\n",
       "  <thead>\n",
       "    <tr style=\"text-align: right;\">\n",
       "      <th></th>\n",
       "      <th>datetime</th>\n",
       "      <th>Residence City</th>\n",
       "      <th>Residence State</th>\n",
       "      <th>year</th>\n",
       "    </tr>\n",
       "    <tr>\n",
       "      <th>TOWN</th>\n",
       "      <th></th>\n",
       "      <th></th>\n",
       "      <th></th>\n",
       "      <th></th>\n",
       "    </tr>\n",
       "  </thead>\n",
       "  <tbody>\n",
       "    <tr>\n",
       "      <th>GROTON</th>\n",
       "      <td>2013-11-09</td>\n",
       "      <td>GROTON</td>\n",
       "      <td>NaN</td>\n",
       "      <td>2013</td>\n",
       "    </tr>\n",
       "    <tr>\n",
       "      <th>WOLCOTT</th>\n",
       "      <td>2012-12-29</td>\n",
       "      <td>WOLCOTT</td>\n",
       "      <td>NaN</td>\n",
       "      <td>2012</td>\n",
       "    </tr>\n",
       "    <tr>\n",
       "      <th>ENFIELD</th>\n",
       "      <td>2014-02-18</td>\n",
       "      <td>ENFIELD</td>\n",
       "      <td>NaN</td>\n",
       "      <td>2014</td>\n",
       "    </tr>\n",
       "    <tr>\n",
       "      <th>WALLINGFORD</th>\n",
       "      <td>2014-09-07</td>\n",
       "      <td>WALLINGFORD</td>\n",
       "      <td>NaN</td>\n",
       "      <td>2014</td>\n",
       "    </tr>\n",
       "    <tr>\n",
       "      <th>WEST HAVEN</th>\n",
       "      <td>2013-10-04</td>\n",
       "      <td>WEST HAVEN</td>\n",
       "      <td>NaN</td>\n",
       "      <td>2013</td>\n",
       "    </tr>\n",
       "  </tbody>\n",
       "</table>\n",
       "</div>"
      ],
      "text/plain": [
       "              datetime Residence City Residence State  year\n",
       "TOWN                                                       \n",
       "GROTON      2013-11-09         GROTON             NaN  2013\n",
       "WOLCOTT     2012-12-29        WOLCOTT             NaN  2012\n",
       "ENFIELD     2014-02-18        ENFIELD             NaN  2014\n",
       "WALLINGFORD 2014-09-07    WALLINGFORD             NaN  2014\n",
       "WEST HAVEN  2013-10-04     WEST HAVEN             NaN  2013"
      ]
     },
     "execution_count": 379,
     "metadata": {},
     "output_type": "execute_result"
    }
   ],
   "source": [
    "ct_town_report = ct_town_report.set_index(\"TOWN\")\n",
    "ct_town_report.head()"
   ]
  },
  {
   "cell_type": "code",
   "execution_count": 391,
   "metadata": {
    "collapsed": false
   },
   "outputs": [
    {
     "data": {
      "text/plain": [
       "3821"
      ]
     },
     "execution_count": 391,
     "metadata": {},
     "output_type": "execute_result"
    }
   ],
   "source": [
    "town_years = ct_town_report.reset_index().groupby([\"TOWN\",\"year\"]).agg({\"Residence City\":np.size}).reset_index()\n",
    "town_years.columns = [\"TOWN\",\"YEAR\",\"COUNT\"]\n",
    "town_years[\"COUNT\"].sum()"
   ]
  },
  {
   "cell_type": "code",
   "execution_count": 410,
   "metadata": {
    "collapsed": false
   },
   "outputs": [
    {
     "data": {
      "text/html": [
       "<div>\n",
       "<table border=\"1\" class=\"dataframe\">\n",
       "  <thead>\n",
       "    <tr style=\"text-align: right;\">\n",
       "      <th>YEAR</th>\n",
       "      <th>2012</th>\n",
       "      <th>2013</th>\n",
       "      <th>2014</th>\n",
       "      <th>2015</th>\n",
       "      <th>2016</th>\n",
       "      <th>2017</th>\n",
       "    </tr>\n",
       "    <tr>\n",
       "      <th>TOWN</th>\n",
       "      <th></th>\n",
       "      <th></th>\n",
       "      <th></th>\n",
       "      <th></th>\n",
       "      <th></th>\n",
       "      <th></th>\n",
       "    </tr>\n",
       "  </thead>\n",
       "  <tbody>\n",
       "    <tr>\n",
       "      <th>HARTFORD</th>\n",
       "      <td>16.0</td>\n",
       "      <td>26.0</td>\n",
       "      <td>29.0</td>\n",
       "      <td>43.0</td>\n",
       "      <td>62.0</td>\n",
       "      <td>58.0</td>\n",
       "    </tr>\n",
       "    <tr>\n",
       "      <th>BRIDGEPORT</th>\n",
       "      <td>13.0</td>\n",
       "      <td>23.0</td>\n",
       "      <td>20.0</td>\n",
       "      <td>26.0</td>\n",
       "      <td>49.0</td>\n",
       "      <td>51.0</td>\n",
       "    </tr>\n",
       "    <tr>\n",
       "      <th>WATERBURY</th>\n",
       "      <td>21.0</td>\n",
       "      <td>27.0</td>\n",
       "      <td>32.0</td>\n",
       "      <td>45.0</td>\n",
       "      <td>33.0</td>\n",
       "      <td>44.0</td>\n",
       "    </tr>\n",
       "    <tr>\n",
       "      <th>NEW HAVEN</th>\n",
       "      <td>20.0</td>\n",
       "      <td>28.0</td>\n",
       "      <td>25.0</td>\n",
       "      <td>27.0</td>\n",
       "      <td>47.0</td>\n",
       "      <td>41.0</td>\n",
       "    </tr>\n",
       "    <tr>\n",
       "      <th>NEW BRITAIN</th>\n",
       "      <td>12.0</td>\n",
       "      <td>18.0</td>\n",
       "      <td>15.0</td>\n",
       "      <td>34.0</td>\n",
       "      <td>35.0</td>\n",
       "      <td>36.0</td>\n",
       "    </tr>\n",
       "    <tr>\n",
       "      <th>MERIDEN</th>\n",
       "      <td>8.0</td>\n",
       "      <td>9.0</td>\n",
       "      <td>13.0</td>\n",
       "      <td>16.0</td>\n",
       "      <td>24.0</td>\n",
       "      <td>36.0</td>\n",
       "    </tr>\n",
       "    <tr>\n",
       "      <th>NORWICH</th>\n",
       "      <td>10.0</td>\n",
       "      <td>11.0</td>\n",
       "      <td>5.0</td>\n",
       "      <td>13.0</td>\n",
       "      <td>24.0</td>\n",
       "      <td>34.0</td>\n",
       "    </tr>\n",
       "    <tr>\n",
       "      <th>WEST HAVEN</th>\n",
       "      <td>3.0</td>\n",
       "      <td>9.0</td>\n",
       "      <td>10.0</td>\n",
       "      <td>14.0</td>\n",
       "      <td>21.0</td>\n",
       "      <td>23.0</td>\n",
       "    </tr>\n",
       "    <tr>\n",
       "      <th>BRISTOL</th>\n",
       "      <td>11.0</td>\n",
       "      <td>8.0</td>\n",
       "      <td>9.0</td>\n",
       "      <td>21.0</td>\n",
       "      <td>35.0</td>\n",
       "      <td>23.0</td>\n",
       "    </tr>\n",
       "    <tr>\n",
       "      <th>NEWINGTON</th>\n",
       "      <td>2.0</td>\n",
       "      <td>3.0</td>\n",
       "      <td>3.0</td>\n",
       "      <td>2.0</td>\n",
       "      <td>3.0</td>\n",
       "      <td>19.0</td>\n",
       "    </tr>\n",
       "    <tr>\n",
       "      <th>MANCHESTER</th>\n",
       "      <td>10.0</td>\n",
       "      <td>10.0</td>\n",
       "      <td>6.0</td>\n",
       "      <td>13.0</td>\n",
       "      <td>18.0</td>\n",
       "      <td>19.0</td>\n",
       "    </tr>\n",
       "    <tr>\n",
       "      <th>MIDDLETOWN</th>\n",
       "      <td>9.0</td>\n",
       "      <td>10.0</td>\n",
       "      <td>9.0</td>\n",
       "      <td>13.0</td>\n",
       "      <td>12.0</td>\n",
       "      <td>18.0</td>\n",
       "    </tr>\n",
       "    <tr>\n",
       "      <th>DANBURY</th>\n",
       "      <td>6.0</td>\n",
       "      <td>12.0</td>\n",
       "      <td>8.0</td>\n",
       "      <td>11.0</td>\n",
       "      <td>17.0</td>\n",
       "      <td>18.0</td>\n",
       "    </tr>\n",
       "    <tr>\n",
       "      <th>EAST HARTFORD</th>\n",
       "      <td>7.0</td>\n",
       "      <td>8.0</td>\n",
       "      <td>13.0</td>\n",
       "      <td>10.0</td>\n",
       "      <td>13.0</td>\n",
       "      <td>17.0</td>\n",
       "    </tr>\n",
       "    <tr>\n",
       "      <th>TORRINGTON</th>\n",
       "      <td>7.0</td>\n",
       "      <td>11.0</td>\n",
       "      <td>15.0</td>\n",
       "      <td>12.0</td>\n",
       "      <td>13.0</td>\n",
       "      <td>17.0</td>\n",
       "    </tr>\n",
       "    <tr>\n",
       "      <th>STAMFORD</th>\n",
       "      <td>7.0</td>\n",
       "      <td>8.0</td>\n",
       "      <td>8.0</td>\n",
       "      <td>5.0</td>\n",
       "      <td>10.0</td>\n",
       "      <td>16.0</td>\n",
       "    </tr>\n",
       "    <tr>\n",
       "      <th>SOUTHINGTON</th>\n",
       "      <td>4.0</td>\n",
       "      <td>5.0</td>\n",
       "      <td>11.0</td>\n",
       "      <td>9.0</td>\n",
       "      <td>10.0</td>\n",
       "      <td>14.0</td>\n",
       "    </tr>\n",
       "    <tr>\n",
       "      <th>NEW LONDON</th>\n",
       "      <td>9.0</td>\n",
       "      <td>8.0</td>\n",
       "      <td>10.0</td>\n",
       "      <td>13.0</td>\n",
       "      <td>11.0</td>\n",
       "      <td>14.0</td>\n",
       "    </tr>\n",
       "    <tr>\n",
       "      <th>ENFIELD</th>\n",
       "      <td>5.0</td>\n",
       "      <td>7.0</td>\n",
       "      <td>12.0</td>\n",
       "      <td>13.0</td>\n",
       "      <td>15.0</td>\n",
       "      <td>14.0</td>\n",
       "    </tr>\n",
       "    <tr>\n",
       "      <th>NAUGATUCK</th>\n",
       "      <td>2.0</td>\n",
       "      <td>6.0</td>\n",
       "      <td>5.0</td>\n",
       "      <td>8.0</td>\n",
       "      <td>8.0</td>\n",
       "      <td>14.0</td>\n",
       "    </tr>\n",
       "    <tr>\n",
       "      <th>NORWALK</th>\n",
       "      <td>3.0</td>\n",
       "      <td>4.0</td>\n",
       "      <td>6.0</td>\n",
       "      <td>12.0</td>\n",
       "      <td>10.0</td>\n",
       "      <td>14.0</td>\n",
       "    </tr>\n",
       "    <tr>\n",
       "      <th>STRATFORD</th>\n",
       "      <td>3.0</td>\n",
       "      <td>7.0</td>\n",
       "      <td>4.0</td>\n",
       "      <td>15.0</td>\n",
       "      <td>20.0</td>\n",
       "      <td>14.0</td>\n",
       "    </tr>\n",
       "    <tr>\n",
       "      <th>WEST HARTFORD</th>\n",
       "      <td>3.0</td>\n",
       "      <td>4.0</td>\n",
       "      <td>2.0</td>\n",
       "      <td>4.0</td>\n",
       "      <td>9.0</td>\n",
       "      <td>13.0</td>\n",
       "    </tr>\n",
       "    <tr>\n",
       "      <th>WINDHAM</th>\n",
       "      <td>3.0</td>\n",
       "      <td>3.0</td>\n",
       "      <td>6.0</td>\n",
       "      <td>8.0</td>\n",
       "      <td>11.0</td>\n",
       "      <td>13.0</td>\n",
       "    </tr>\n",
       "    <tr>\n",
       "      <th>BERLIN</th>\n",
       "      <td>2.0</td>\n",
       "      <td>2.0</td>\n",
       "      <td>3.0</td>\n",
       "      <td>4.0</td>\n",
       "      <td>4.0</td>\n",
       "      <td>13.0</td>\n",
       "    </tr>\n",
       "    <tr>\n",
       "      <th>BRANFORD</th>\n",
       "      <td>2.0</td>\n",
       "      <td>4.0</td>\n",
       "      <td>1.0</td>\n",
       "      <td>7.0</td>\n",
       "      <td>6.0</td>\n",
       "      <td>12.0</td>\n",
       "    </tr>\n",
       "    <tr>\n",
       "      <th>HAMDEN</th>\n",
       "      <td>6.0</td>\n",
       "      <td>5.0</td>\n",
       "      <td>9.0</td>\n",
       "      <td>9.0</td>\n",
       "      <td>12.0</td>\n",
       "      <td>11.0</td>\n",
       "    </tr>\n",
       "    <tr>\n",
       "      <th>VERNON</th>\n",
       "      <td>2.0</td>\n",
       "      <td>6.0</td>\n",
       "      <td>10.0</td>\n",
       "      <td>5.0</td>\n",
       "      <td>6.0</td>\n",
       "      <td>10.0</td>\n",
       "    </tr>\n",
       "    <tr>\n",
       "      <th>MILFORD</th>\n",
       "      <td>4.0</td>\n",
       "      <td>11.0</td>\n",
       "      <td>9.0</td>\n",
       "      <td>9.0</td>\n",
       "      <td>13.0</td>\n",
       "      <td>10.0</td>\n",
       "    </tr>\n",
       "    <tr>\n",
       "      <th>SHELTON</th>\n",
       "      <td>4.0</td>\n",
       "      <td>5.0</td>\n",
       "      <td>5.0</td>\n",
       "      <td>4.0</td>\n",
       "      <td>13.0</td>\n",
       "      <td>9.0</td>\n",
       "    </tr>\n",
       "    <tr>\n",
       "      <th>...</th>\n",
       "      <td>...</td>\n",
       "      <td>...</td>\n",
       "      <td>...</td>\n",
       "      <td>...</td>\n",
       "      <td>...</td>\n",
       "      <td>...</td>\n",
       "    </tr>\n",
       "    <tr>\n",
       "      <th>REDDING</th>\n",
       "      <td>NaN</td>\n",
       "      <td>1.0</td>\n",
       "      <td>NaN</td>\n",
       "      <td>1.0</td>\n",
       "      <td>NaN</td>\n",
       "      <td>1.0</td>\n",
       "    </tr>\n",
       "    <tr>\n",
       "      <th>RIDGEFIELD</th>\n",
       "      <td>1.0</td>\n",
       "      <td>3.0</td>\n",
       "      <td>2.0</td>\n",
       "      <td>2.0</td>\n",
       "      <td>1.0</td>\n",
       "      <td>1.0</td>\n",
       "    </tr>\n",
       "    <tr>\n",
       "      <th>ROCKY HILL</th>\n",
       "      <td>3.0</td>\n",
       "      <td>1.0</td>\n",
       "      <td>2.0</td>\n",
       "      <td>2.0</td>\n",
       "      <td>1.0</td>\n",
       "      <td>1.0</td>\n",
       "    </tr>\n",
       "    <tr>\n",
       "      <th>SALEM</th>\n",
       "      <td>NaN</td>\n",
       "      <td>1.0</td>\n",
       "      <td>1.0</td>\n",
       "      <td>NaN</td>\n",
       "      <td>NaN</td>\n",
       "      <td>1.0</td>\n",
       "    </tr>\n",
       "    <tr>\n",
       "      <th>WOODSTOCK</th>\n",
       "      <td>NaN</td>\n",
       "      <td>NaN</td>\n",
       "      <td>1.0</td>\n",
       "      <td>NaN</td>\n",
       "      <td>2.0</td>\n",
       "      <td>1.0</td>\n",
       "    </tr>\n",
       "    <tr>\n",
       "      <th>ANDOVER</th>\n",
       "      <td>NaN</td>\n",
       "      <td>NaN</td>\n",
       "      <td>1.0</td>\n",
       "      <td>1.0</td>\n",
       "      <td>NaN</td>\n",
       "      <td>NaN</td>\n",
       "    </tr>\n",
       "    <tr>\n",
       "      <th>BOLTON</th>\n",
       "      <td>NaN</td>\n",
       "      <td>NaN</td>\n",
       "      <td>1.0</td>\n",
       "      <td>1.0</td>\n",
       "      <td>NaN</td>\n",
       "      <td>NaN</td>\n",
       "    </tr>\n",
       "    <tr>\n",
       "      <th>BOZRAH</th>\n",
       "      <td>NaN</td>\n",
       "      <td>1.0</td>\n",
       "      <td>1.0</td>\n",
       "      <td>NaN</td>\n",
       "      <td>NaN</td>\n",
       "      <td>NaN</td>\n",
       "    </tr>\n",
       "    <tr>\n",
       "      <th>BROOKFIELD</th>\n",
       "      <td>NaN</td>\n",
       "      <td>NaN</td>\n",
       "      <td>1.0</td>\n",
       "      <td>4.0</td>\n",
       "      <td>2.0</td>\n",
       "      <td>NaN</td>\n",
       "    </tr>\n",
       "    <tr>\n",
       "      <th>CANAAN</th>\n",
       "      <td>1.0</td>\n",
       "      <td>1.0</td>\n",
       "      <td>NaN</td>\n",
       "      <td>1.0</td>\n",
       "      <td>NaN</td>\n",
       "      <td>NaN</td>\n",
       "    </tr>\n",
       "    <tr>\n",
       "      <th>CHESTER</th>\n",
       "      <td>1.0</td>\n",
       "      <td>NaN</td>\n",
       "      <td>1.0</td>\n",
       "      <td>NaN</td>\n",
       "      <td>1.0</td>\n",
       "      <td>NaN</td>\n",
       "    </tr>\n",
       "    <tr>\n",
       "      <th>DARIEN</th>\n",
       "      <td>NaN</td>\n",
       "      <td>1.0</td>\n",
       "      <td>1.0</td>\n",
       "      <td>1.0</td>\n",
       "      <td>2.0</td>\n",
       "      <td>NaN</td>\n",
       "    </tr>\n",
       "    <tr>\n",
       "      <th>EASTFORD</th>\n",
       "      <td>NaN</td>\n",
       "      <td>1.0</td>\n",
       "      <td>1.0</td>\n",
       "      <td>NaN</td>\n",
       "      <td>NaN</td>\n",
       "      <td>NaN</td>\n",
       "    </tr>\n",
       "    <tr>\n",
       "      <th>ESSEX</th>\n",
       "      <td>NaN</td>\n",
       "      <td>1.0</td>\n",
       "      <td>2.0</td>\n",
       "      <td>3.0</td>\n",
       "      <td>1.0</td>\n",
       "      <td>NaN</td>\n",
       "    </tr>\n",
       "    <tr>\n",
       "      <th>FRANKLIN</th>\n",
       "      <td>NaN</td>\n",
       "      <td>1.0</td>\n",
       "      <td>1.0</td>\n",
       "      <td>1.0</td>\n",
       "      <td>1.0</td>\n",
       "      <td>NaN</td>\n",
       "    </tr>\n",
       "    <tr>\n",
       "      <th>GOSHEN</th>\n",
       "      <td>1.0</td>\n",
       "      <td>NaN</td>\n",
       "      <td>NaN</td>\n",
       "      <td>NaN</td>\n",
       "      <td>NaN</td>\n",
       "      <td>NaN</td>\n",
       "    </tr>\n",
       "    <tr>\n",
       "      <th>GRANBY</th>\n",
       "      <td>NaN</td>\n",
       "      <td>2.0</td>\n",
       "      <td>NaN</td>\n",
       "      <td>NaN</td>\n",
       "      <td>2.0</td>\n",
       "      <td>NaN</td>\n",
       "    </tr>\n",
       "    <tr>\n",
       "      <th>HARTLAND</th>\n",
       "      <td>NaN</td>\n",
       "      <td>1.0</td>\n",
       "      <td>NaN</td>\n",
       "      <td>NaN</td>\n",
       "      <td>NaN</td>\n",
       "      <td>NaN</td>\n",
       "    </tr>\n",
       "    <tr>\n",
       "      <th>HARWINTON</th>\n",
       "      <td>NaN</td>\n",
       "      <td>1.0</td>\n",
       "      <td>1.0</td>\n",
       "      <td>3.0</td>\n",
       "      <td>1.0</td>\n",
       "      <td>NaN</td>\n",
       "    </tr>\n",
       "    <tr>\n",
       "      <th>HEBRON</th>\n",
       "      <td>1.0</td>\n",
       "      <td>2.0</td>\n",
       "      <td>1.0</td>\n",
       "      <td>3.0</td>\n",
       "      <td>3.0</td>\n",
       "      <td>NaN</td>\n",
       "    </tr>\n",
       "    <tr>\n",
       "      <th>KILLINGWORTH</th>\n",
       "      <td>NaN</td>\n",
       "      <td>1.0</td>\n",
       "      <td>NaN</td>\n",
       "      <td>1.0</td>\n",
       "      <td>NaN</td>\n",
       "      <td>NaN</td>\n",
       "    </tr>\n",
       "    <tr>\n",
       "      <th>LITCHFIELD</th>\n",
       "      <td>NaN</td>\n",
       "      <td>NaN</td>\n",
       "      <td>1.0</td>\n",
       "      <td>NaN</td>\n",
       "      <td>1.0</td>\n",
       "      <td>NaN</td>\n",
       "    </tr>\n",
       "    <tr>\n",
       "      <th>MORRIS</th>\n",
       "      <td>NaN</td>\n",
       "      <td>1.0</td>\n",
       "      <td>1.0</td>\n",
       "      <td>NaN</td>\n",
       "      <td>NaN</td>\n",
       "      <td>NaN</td>\n",
       "    </tr>\n",
       "    <tr>\n",
       "      <th>OLD LYME</th>\n",
       "      <td>NaN</td>\n",
       "      <td>3.0</td>\n",
       "      <td>1.0</td>\n",
       "      <td>1.0</td>\n",
       "      <td>1.0</td>\n",
       "      <td>NaN</td>\n",
       "    </tr>\n",
       "    <tr>\n",
       "      <th>POMFRET</th>\n",
       "      <td>NaN</td>\n",
       "      <td>1.0</td>\n",
       "      <td>NaN</td>\n",
       "      <td>NaN</td>\n",
       "      <td>NaN</td>\n",
       "      <td>NaN</td>\n",
       "    </tr>\n",
       "    <tr>\n",
       "      <th>SHERMAN</th>\n",
       "      <td>1.0</td>\n",
       "      <td>NaN</td>\n",
       "      <td>NaN</td>\n",
       "      <td>NaN</td>\n",
       "      <td>NaN</td>\n",
       "      <td>NaN</td>\n",
       "    </tr>\n",
       "    <tr>\n",
       "      <th>SPRAGUE</th>\n",
       "      <td>NaN</td>\n",
       "      <td>2.0</td>\n",
       "      <td>1.0</td>\n",
       "      <td>2.0</td>\n",
       "      <td>1.0</td>\n",
       "      <td>NaN</td>\n",
       "    </tr>\n",
       "    <tr>\n",
       "      <th>WESTON</th>\n",
       "      <td>NaN</td>\n",
       "      <td>NaN</td>\n",
       "      <td>NaN</td>\n",
       "      <td>NaN</td>\n",
       "      <td>1.0</td>\n",
       "      <td>NaN</td>\n",
       "    </tr>\n",
       "    <tr>\n",
       "      <th>WILTON</th>\n",
       "      <td>1.0</td>\n",
       "      <td>3.0</td>\n",
       "      <td>NaN</td>\n",
       "      <td>2.0</td>\n",
       "      <td>NaN</td>\n",
       "      <td>NaN</td>\n",
       "    </tr>\n",
       "    <tr>\n",
       "      <th>WOODBURY</th>\n",
       "      <td>NaN</td>\n",
       "      <td>3.0</td>\n",
       "      <td>NaN</td>\n",
       "      <td>NaN</td>\n",
       "      <td>2.0</td>\n",
       "      <td>NaN</td>\n",
       "    </tr>\n",
       "  </tbody>\n",
       "</table>\n",
       "<p>162 rows × 6 columns</p>\n",
       "</div>"
      ],
      "text/plain": [
       "YEAR           2012  2013  2014  2015  2016  2017\n",
       "TOWN                                             \n",
       "HARTFORD       16.0  26.0  29.0  43.0  62.0  58.0\n",
       "BRIDGEPORT     13.0  23.0  20.0  26.0  49.0  51.0\n",
       "WATERBURY      21.0  27.0  32.0  45.0  33.0  44.0\n",
       "NEW HAVEN      20.0  28.0  25.0  27.0  47.0  41.0\n",
       "NEW BRITAIN    12.0  18.0  15.0  34.0  35.0  36.0\n",
       "MERIDEN         8.0   9.0  13.0  16.0  24.0  36.0\n",
       "NORWICH        10.0  11.0   5.0  13.0  24.0  34.0\n",
       "WEST HAVEN      3.0   9.0  10.0  14.0  21.0  23.0\n",
       "BRISTOL        11.0   8.0   9.0  21.0  35.0  23.0\n",
       "NEWINGTON       2.0   3.0   3.0   2.0   3.0  19.0\n",
       "MANCHESTER     10.0  10.0   6.0  13.0  18.0  19.0\n",
       "MIDDLETOWN      9.0  10.0   9.0  13.0  12.0  18.0\n",
       "DANBURY         6.0  12.0   8.0  11.0  17.0  18.0\n",
       "EAST HARTFORD   7.0   8.0  13.0  10.0  13.0  17.0\n",
       "TORRINGTON      7.0  11.0  15.0  12.0  13.0  17.0\n",
       "STAMFORD        7.0   8.0   8.0   5.0  10.0  16.0\n",
       "SOUTHINGTON     4.0   5.0  11.0   9.0  10.0  14.0\n",
       "NEW LONDON      9.0   8.0  10.0  13.0  11.0  14.0\n",
       "ENFIELD         5.0   7.0  12.0  13.0  15.0  14.0\n",
       "NAUGATUCK       2.0   6.0   5.0   8.0   8.0  14.0\n",
       "NORWALK         3.0   4.0   6.0  12.0  10.0  14.0\n",
       "STRATFORD       3.0   7.0   4.0  15.0  20.0  14.0\n",
       "WEST HARTFORD   3.0   4.0   2.0   4.0   9.0  13.0\n",
       "WINDHAM         3.0   3.0   6.0   8.0  11.0  13.0\n",
       "BERLIN          2.0   2.0   3.0   4.0   4.0  13.0\n",
       "BRANFORD        2.0   4.0   1.0   7.0   6.0  12.0\n",
       "HAMDEN          6.0   5.0   9.0   9.0  12.0  11.0\n",
       "VERNON          2.0   6.0  10.0   5.0   6.0  10.0\n",
       "MILFORD         4.0  11.0   9.0   9.0  13.0  10.0\n",
       "SHELTON         4.0   5.0   5.0   4.0  13.0   9.0\n",
       "...             ...   ...   ...   ...   ...   ...\n",
       "REDDING         NaN   1.0   NaN   1.0   NaN   1.0\n",
       "RIDGEFIELD      1.0   3.0   2.0   2.0   1.0   1.0\n",
       "ROCKY HILL      3.0   1.0   2.0   2.0   1.0   1.0\n",
       "SALEM           NaN   1.0   1.0   NaN   NaN   1.0\n",
       "WOODSTOCK       NaN   NaN   1.0   NaN   2.0   1.0\n",
       "ANDOVER         NaN   NaN   1.0   1.0   NaN   NaN\n",
       "BOLTON          NaN   NaN   1.0   1.0   NaN   NaN\n",
       "BOZRAH          NaN   1.0   1.0   NaN   NaN   NaN\n",
       "BROOKFIELD      NaN   NaN   1.0   4.0   2.0   NaN\n",
       "CANAAN          1.0   1.0   NaN   1.0   NaN   NaN\n",
       "CHESTER         1.0   NaN   1.0   NaN   1.0   NaN\n",
       "DARIEN          NaN   1.0   1.0   1.0   2.0   NaN\n",
       "EASTFORD        NaN   1.0   1.0   NaN   NaN   NaN\n",
       "ESSEX           NaN   1.0   2.0   3.0   1.0   NaN\n",
       "FRANKLIN        NaN   1.0   1.0   1.0   1.0   NaN\n",
       "GOSHEN          1.0   NaN   NaN   NaN   NaN   NaN\n",
       "GRANBY          NaN   2.0   NaN   NaN   2.0   NaN\n",
       "HARTLAND        NaN   1.0   NaN   NaN   NaN   NaN\n",
       "HARWINTON       NaN   1.0   1.0   3.0   1.0   NaN\n",
       "HEBRON          1.0   2.0   1.0   3.0   3.0   NaN\n",
       "KILLINGWORTH    NaN   1.0   NaN   1.0   NaN   NaN\n",
       "LITCHFIELD      NaN   NaN   1.0   NaN   1.0   NaN\n",
       "MORRIS          NaN   1.0   1.0   NaN   NaN   NaN\n",
       "OLD LYME        NaN   3.0   1.0   1.0   1.0   NaN\n",
       "POMFRET         NaN   1.0   NaN   NaN   NaN   NaN\n",
       "SHERMAN         1.0   NaN   NaN   NaN   NaN   NaN\n",
       "SPRAGUE         NaN   2.0   1.0   2.0   1.0   NaN\n",
       "WESTON          NaN   NaN   NaN   NaN   1.0   NaN\n",
       "WILTON          1.0   3.0   NaN   2.0   NaN   NaN\n",
       "WOODBURY        NaN   3.0   NaN   NaN   2.0   NaN\n",
       "\n",
       "[162 rows x 6 columns]"
      ]
     },
     "execution_count": 410,
     "metadata": {},
     "output_type": "execute_result"
    }
   ],
   "source": [
    "town_year_growth = pd.pivot_table(town_years, columns=\"YEAR\",values=\"COUNT\",index=\"TOWN\")\n",
    "town_year_growth.sort_values(by=2017,ascending=False)"
   ]
  },
  {
   "cell_type": "code",
   "execution_count": 402,
   "metadata": {
    "collapsed": false
   },
   "outputs": [
    {
     "data": {
      "text/html": [
       "<div>\n",
       "<table border=\"1\" class=\"dataframe\">\n",
       "  <thead>\n",
       "    <tr style=\"text-align: right;\">\n",
       "      <th>YEAR</th>\n",
       "      <th>2012</th>\n",
       "      <th>2013</th>\n",
       "      <th>2014</th>\n",
       "      <th>2015</th>\n",
       "      <th>2016</th>\n",
       "      <th>2017</th>\n",
       "    </tr>\n",
       "    <tr>\n",
       "      <th>TOWN</th>\n",
       "      <th></th>\n",
       "      <th></th>\n",
       "      <th></th>\n",
       "      <th></th>\n",
       "      <th></th>\n",
       "      <th></th>\n",
       "    </tr>\n",
       "  </thead>\n",
       "  <tbody>\n",
       "    <tr>\n",
       "      <th>ANDOVER</th>\n",
       "      <td>NaN</td>\n",
       "      <td>NaN</td>\n",
       "      <td>1.0</td>\n",
       "      <td>1.0</td>\n",
       "      <td>NaN</td>\n",
       "      <td>NaN</td>\n",
       "    </tr>\n",
       "    <tr>\n",
       "      <th>ANSONIA</th>\n",
       "      <td>5.0</td>\n",
       "      <td>1.0</td>\n",
       "      <td>3.0</td>\n",
       "      <td>5.0</td>\n",
       "      <td>11.0</td>\n",
       "      <td>6.0</td>\n",
       "    </tr>\n",
       "    <tr>\n",
       "      <th>ASHFORD</th>\n",
       "      <td>NaN</td>\n",
       "      <td>NaN</td>\n",
       "      <td>NaN</td>\n",
       "      <td>NaN</td>\n",
       "      <td>1.0</td>\n",
       "      <td>2.0</td>\n",
       "    </tr>\n",
       "    <tr>\n",
       "      <th>AVON</th>\n",
       "      <td>NaN</td>\n",
       "      <td>NaN</td>\n",
       "      <td>1.0</td>\n",
       "      <td>NaN</td>\n",
       "      <td>1.0</td>\n",
       "      <td>3.0</td>\n",
       "    </tr>\n",
       "    <tr>\n",
       "      <th>BARKHAMSTED</th>\n",
       "      <td>NaN</td>\n",
       "      <td>NaN</td>\n",
       "      <td>NaN</td>\n",
       "      <td>NaN</td>\n",
       "      <td>NaN</td>\n",
       "      <td>1.0</td>\n",
       "    </tr>\n",
       "  </tbody>\n",
       "</table>\n",
       "</div>"
      ],
      "text/plain": [
       "YEAR         2012  2013  2014  2015  2016  2017\n",
       "TOWN                                           \n",
       "ANDOVER       NaN   NaN   1.0   1.0   NaN   NaN\n",
       "ANSONIA       5.0   1.0   3.0   5.0  11.0   6.0\n",
       "ASHFORD       NaN   NaN   NaN   NaN   1.0   2.0\n",
       "AVON          NaN   NaN   1.0   NaN   1.0   3.0\n",
       "BARKHAMSTED   NaN   NaN   NaN   NaN   NaN   1.0"
      ]
     },
     "execution_count": 402,
     "metadata": {},
     "output_type": "execute_result"
    }
   ],
   "source": [
    "town_year_growth.head()"
   ]
  },
  {
   "cell_type": "code",
   "execution_count": 416,
   "metadata": {
    "collapsed": false
   },
   "outputs": [
    {
     "data": {
      "text/html": [
       "<div>\n",
       "<table border=\"1\" class=\"dataframe\">\n",
       "  <thead>\n",
       "    <tr style=\"text-align: right;\">\n",
       "      <th></th>\n",
       "      <th>2012</th>\n",
       "      <th>2013</th>\n",
       "      <th>2014</th>\n",
       "      <th>2015</th>\n",
       "      <th>2016</th>\n",
       "      <th>2017</th>\n",
       "      <th>population</th>\n",
       "    </tr>\n",
       "    <tr>\n",
       "      <th>TOWN</th>\n",
       "      <th></th>\n",
       "      <th></th>\n",
       "      <th></th>\n",
       "      <th></th>\n",
       "      <th></th>\n",
       "      <th></th>\n",
       "      <th></th>\n",
       "    </tr>\n",
       "  </thead>\n",
       "  <tbody>\n",
       "    <tr>\n",
       "      <th>NORWICH</th>\n",
       "      <td>2.496443</td>\n",
       "      <td>2.746087</td>\n",
       "      <td>1.248221</td>\n",
       "      <td>3.245375</td>\n",
       "      <td>5.991462</td>\n",
       "      <td>8.487905</td>\n",
       "      <td>40057.0</td>\n",
       "    </tr>\n",
       "    <tr>\n",
       "      <th>BERLIN</th>\n",
       "      <td>0.974232</td>\n",
       "      <td>0.974232</td>\n",
       "      <td>1.461347</td>\n",
       "      <td>1.948463</td>\n",
       "      <td>1.948463</td>\n",
       "      <td>6.332505</td>\n",
       "      <td>20529.0</td>\n",
       "    </tr>\n",
       "    <tr>\n",
       "      <th>NEWINGTON</th>\n",
       "      <td>0.653808</td>\n",
       "      <td>0.980713</td>\n",
       "      <td>0.980713</td>\n",
       "      <td>0.653808</td>\n",
       "      <td>0.980713</td>\n",
       "      <td>6.211180</td>\n",
       "      <td>30590.0</td>\n",
       "    </tr>\n",
       "    <tr>\n",
       "      <th>MERIDEN</th>\n",
       "      <td>1.328837</td>\n",
       "      <td>1.494942</td>\n",
       "      <td>2.159361</td>\n",
       "      <td>2.657675</td>\n",
       "      <td>3.986512</td>\n",
       "      <td>5.979768</td>\n",
       "      <td>60203.0</td>\n",
       "    </tr>\n",
       "    <tr>\n",
       "      <th>KILLINGLY</th>\n",
       "      <td>2.327070</td>\n",
       "      <td>1.163535</td>\n",
       "      <td>1.745302</td>\n",
       "      <td>2.327070</td>\n",
       "      <td>2.908837</td>\n",
       "      <td>5.235907</td>\n",
       "      <td>17189.0</td>\n",
       "    </tr>\n",
       "    <tr>\n",
       "      <th>WINDHAM</th>\n",
       "      <td>1.200096</td>\n",
       "      <td>1.200096</td>\n",
       "      <td>2.400192</td>\n",
       "      <td>3.200256</td>\n",
       "      <td>4.400352</td>\n",
       "      <td>5.200416</td>\n",
       "      <td>24998.0</td>\n",
       "    </tr>\n",
       "    <tr>\n",
       "      <th>NEW LONDON</th>\n",
       "      <td>3.306635</td>\n",
       "      <td>2.939231</td>\n",
       "      <td>3.674039</td>\n",
       "      <td>4.776251</td>\n",
       "      <td>4.041443</td>\n",
       "      <td>5.143655</td>\n",
       "      <td>27218.0</td>\n",
       "    </tr>\n",
       "    <tr>\n",
       "      <th>NEW BRITAIN</th>\n",
       "      <td>1.646633</td>\n",
       "      <td>2.469949</td>\n",
       "      <td>2.058291</td>\n",
       "      <td>4.665459</td>\n",
       "      <td>4.802679</td>\n",
       "      <td>4.939898</td>\n",
       "      <td>72876.0</td>\n",
       "    </tr>\n",
       "    <tr>\n",
       "      <th>SEYMOUR</th>\n",
       "      <td>0.604595</td>\n",
       "      <td>1.813785</td>\n",
       "      <td>1.209190</td>\n",
       "      <td>2.418380</td>\n",
       "      <td>2.418380</td>\n",
       "      <td>4.836759</td>\n",
       "      <td>16540.0</td>\n",
       "    </tr>\n",
       "    <tr>\n",
       "      <th>TORRINGTON</th>\n",
       "      <td>1.987112</td>\n",
       "      <td>3.122605</td>\n",
       "      <td>4.258097</td>\n",
       "      <td>3.406478</td>\n",
       "      <td>3.690351</td>\n",
       "      <td>4.825844</td>\n",
       "      <td>35227.0</td>\n",
       "    </tr>\n",
       "  </tbody>\n",
       "</table>\n",
       "</div>"
      ],
      "text/plain": [
       "                 2012      2013      2014      2015      2016      2017  \\\n",
       "TOWN                                                                      \n",
       "NORWICH      2.496443  2.746087  1.248221  3.245375  5.991462  8.487905   \n",
       "BERLIN       0.974232  0.974232  1.461347  1.948463  1.948463  6.332505   \n",
       "NEWINGTON    0.653808  0.980713  0.980713  0.653808  0.980713  6.211180   \n",
       "MERIDEN      1.328837  1.494942  2.159361  2.657675  3.986512  5.979768   \n",
       "KILLINGLY    2.327070  1.163535  1.745302  2.327070  2.908837  5.235907   \n",
       "WINDHAM      1.200096  1.200096  2.400192  3.200256  4.400352  5.200416   \n",
       "NEW LONDON   3.306635  2.939231  3.674039  4.776251  4.041443  5.143655   \n",
       "NEW BRITAIN  1.646633  2.469949  2.058291  4.665459  4.802679  4.939898   \n",
       "SEYMOUR      0.604595  1.813785  1.209190  2.418380  2.418380  4.836759   \n",
       "TORRINGTON   1.987112  3.122605  4.258097  3.406478  3.690351  4.825844   \n",
       "\n",
       "             population  \n",
       "TOWN                     \n",
       "NORWICH         40057.0  \n",
       "BERLIN          20529.0  \n",
       "NEWINGTON       30590.0  \n",
       "MERIDEN         60203.0  \n",
       "KILLINGLY       17189.0  \n",
       "WINDHAM         24998.0  \n",
       "NEW LONDON      27218.0  \n",
       "NEW BRITAIN     72876.0  \n",
       "SEYMOUR         16540.0  \n",
       "TORRINGTON      35227.0  "
      ]
     },
     "execution_count": 416,
     "metadata": {},
     "output_type": "execute_result"
    }
   ],
   "source": [
    "CAPITA = 10 * 1000\n",
    "town_year_rates = town_year_growth.join(pops)\n",
    "for y in range(2012,2018):\n",
    "    town_year_rates[y] = town_year_rates[y] * CAPITA / town_year_rates[\"population\"]\n",
    "town_year_rates[town_year_rates[\"population\"] > 15000].sort_values(by=2017,ascending=False).head(10)"
   ]
  },
  {
   "cell_type": "code",
   "execution_count": null,
   "metadata": {
    "collapsed": true
   },
   "outputs": [],
   "source": []
  },
  {
   "cell_type": "code",
   "execution_count": 413,
   "metadata": {
    "collapsed": false
   },
   "outputs": [
    {
     "data": {
      "text/plain": [
       "2012              1.124291\n",
       "2013              1.550349\n",
       "2014              1.568603\n",
       "2015              2.060675\n",
       "2016              2.271179\n",
       "2017              2.561147\n",
       "population    13506.500000\n",
       "dtype: float64"
      ]
     },
     "execution_count": 413,
     "metadata": {},
     "output_type": "execute_result"
    }
   ],
   "source": [
    "town_year_rates.median()"
   ]
  },
  {
   "cell_type": "markdown",
   "metadata": {},
   "source": [
    "### Make Charts!!"
   ]
  },
  {
   "cell_type": "code",
   "execution_count": 418,
   "metadata": {
    "collapsed": true
   },
   "outputs": [],
   "source": [
    "import matplotlib\n",
    "#matplotlib.use( \"agg\" )\n",
    "# matplotlib.use( \"macosx\" )\n",
    "\n",
    "%matplotlib inline\n",
    "# matplotlib.style.use('ggplot')\n",
    "matplotlib.style.use('mirror00')\n",
    "import matplotlib.pyplot as plt"
   ]
  },
  {
   "cell_type": "code",
   "execution_count": 419,
   "metadata": {
    "collapsed": true
   },
   "outputs": [],
   "source": [
    "years = range(2012,2018)"
   ]
  },
  {
   "cell_type": "code",
   "execution_count": 457,
   "metadata": {
    "collapsed": false
   },
   "outputs": [
    {
     "data": {
      "text/plain": [
       "<matplotlib.axes._subplots.AxesSubplot at 0x11157b0d0>"
      ]
     },
     "execution_count": 457,
     "metadata": {},
     "output_type": "execute_result"
    },
    {
     "data": {
      "image/png": "[encoded data removed]",
      "text/plain": [
       "<matplotlib.figure.Figure at 0x1115d14d0>"
      ]
     },
     "metadata": {},
     "output_type": "display_data"
    }
   ],
   "source": [
    "def make_chart(df,title=\"\"):\n",
    "    \n",
    "    ret = df.copy()[years].transpose()\n",
    "        \n",
    "    ax = ret.plot.bar(figsize=(4,2))\n",
    "    \n",
    "    ax.set_title(title)\n",
    "    ax.set_xlabel(\"\")\n",
    "    ax.set_ylabel(\"\")\n",
    "    ax.legend_.remove()\n",
    "    \n",
    "    plt.tight_layout()\n",
    "\n",
    "        \n",
    "    return ax\n",
    "\n",
    "\n",
    "make_chart(town_year_growth[town_year_growth.index == \"BETHEL\"])"
   ]
  },
  {
   "cell_type": "code",
   "execution_count": 456,
   "metadata": {
    "collapsed": false
   },
   "outputs": [
    {
     "data": {
      "image/png": "[encoded data removed]",
      "text/plain": [
       "<matplotlib.figure.Figure at 0x11157b6d0>"
      ]
     },
     "metadata": {},
     "output_type": "display_data"
    }
   ],
   "source": [
    "make_chart(town_year_rates[town_year_rates.index == \"BETHEL\"])"
   ]
  },
  {
   "cell_type": "code",
   "execution_count": 477,
   "metadata": {
    "collapsed": true
   },
   "outputs": [],
   "source": [
    "def make_both_charts(town):\n",
    "    make_chart(town_year_growth[town_year_growth.index == town])\n",
    "    plt.savefig(\"viz/img/abs/\" + town + \".png\",bbox_inches=\"tight\")\n",
    "    plt.close()\n",
    "\n",
    "    make_chart(town_year_rates[town_year_rates.index == town])\n",
    "    plt.savefig(\"viz/img/rate/\" + town + \".png\",bbox_inches=\"tight\")\n",
    "    plt.close()\n"
   ]
  },
  {
   "cell_type": "code",
   "execution_count": 478,
   "metadata": {
    "collapsed": false
   },
   "outputs": [],
   "source": [
    "make_both_charts(\"BETHEL\")"
   ]
  },
  {
   "cell_type": "code",
   "execution_count": 479,
   "metadata": {
    "collapsed": false
   },
   "outputs": [],
   "source": [
    "all_towns = (town_year_growth.index.unique())\n",
    "for t in all_towns:\n",
    "    make_both_charts(t)"
   ]
  },
  {
   "cell_type": "code",
   "execution_count": 482,
   "metadata": {
    "collapsed": false
   },
   "outputs": [],
   "source": [
    "town_year_growth.join(town_year_rates,rsuffix=\"_rate\").to_csv(\"viz/data/combined.csv\")"
   ]
  },
  {
   "cell_type": "markdown",
   "metadata": {},
   "source": [
    "### Race and ethnicity\n",
    "\n",
    "Time permitting, a look at how the drug epidemic has affected different racial and ethnic groups"
   ]
  },
  {
   "cell_type": "code",
   "execution_count": 498,
   "metadata": {
    "collapsed": false
   },
   "outputs": [],
   "source": [
    "race_cols = [\"race_eth\",\"datetime\"]\n",
    "race_combined = pd.concat([OD[race_cols],OD2017[race_cols]])"
   ]
  },
  {
   "cell_type": "code",
   "execution_count": 499,
   "metadata": {
    "collapsed": false
   },
   "outputs": [
    {
     "data": {
      "text/html": [
       "<div>\n",
       "<table border=\"1\" class=\"dataframe\">\n",
       "  <thead>\n",
       "    <tr style=\"text-align: right;\">\n",
       "      <th></th>\n",
       "      <th>race_eth</th>\n",
       "      <th>datetime</th>\n",
       "      <th>year</th>\n",
       "    </tr>\n",
       "  </thead>\n",
       "  <tbody>\n",
       "    <tr>\n",
       "      <th>0</th>\n",
       "      <td>White</td>\n",
       "      <td>2013-11-09</td>\n",
       "      <td>2013</td>\n",
       "    </tr>\n",
       "    <tr>\n",
       "      <th>1</th>\n",
       "      <td>White</td>\n",
       "      <td>2012-12-29</td>\n",
       "      <td>2012</td>\n",
       "    </tr>\n",
       "    <tr>\n",
       "      <th>2</th>\n",
       "      <td>White</td>\n",
       "      <td>2014-02-18</td>\n",
       "      <td>2014</td>\n",
       "    </tr>\n",
       "    <tr>\n",
       "      <th>3</th>\n",
       "      <td>White</td>\n",
       "      <td>2014-09-07</td>\n",
       "      <td>2014</td>\n",
       "    </tr>\n",
       "    <tr>\n",
       "      <th>4</th>\n",
       "      <td>White</td>\n",
       "      <td>2013-10-04</td>\n",
       "      <td>2013</td>\n",
       "    </tr>\n",
       "  </tbody>\n",
       "</table>\n",
       "</div>"
      ],
      "text/plain": [
       "  race_eth   datetime  year\n",
       "0    White 2013-11-09  2013\n",
       "1    White 2012-12-29  2012\n",
       "2    White 2014-02-18  2014\n",
       "3    White 2014-09-07  2014\n",
       "4    White 2013-10-04  2013"
      ]
     },
     "execution_count": 499,
     "metadata": {},
     "output_type": "execute_result"
    }
   ],
   "source": [
    "# Make sure I didn't duplicate anything\n",
    "race_combined[\"year\"] = race_combined[\"datetime\"].apply(lambda x: x.year)\n",
    "race_combined.head()"
   ]
  },
  {
   "cell_type": "code",
   "execution_count": 500,
   "metadata": {
    "collapsed": false
   },
   "outputs": [
    {
     "data": {
      "text/plain": [
       "1038"
      ]
     },
     "execution_count": 500,
     "metadata": {},
     "output_type": "execute_result"
    }
   ],
   "source": [
    "len(race_combined[race_combined[\"year\"] == 2017])"
   ]
  },
  {
   "cell_type": "code",
   "execution_count": 501,
   "metadata": {
    "collapsed": true
   },
   "outputs": [],
   "source": [
    "# good"
   ]
  },
  {
   "cell_type": "code",
   "execution_count": null,
   "metadata": {
    "collapsed": true
   },
   "outputs": [],
   "source": []
  },
  {
   "cell_type": "code",
   "execution_count": 532,
   "metadata": {
    "collapsed": false
   },
   "outputs": [
    {
     "data": {
      "text/html": [
       "<div>\n",
       "<table border=\"1\" class=\"dataframe\">\n",
       "  <thead>\n",
       "    <tr style=\"text-align: right;\">\n",
       "      <th></th>\n",
       "      <th>year</th>\n",
       "      <th>count</th>\n",
       "    </tr>\n",
       "    <tr>\n",
       "      <th>race_eth</th>\n",
       "      <th></th>\n",
       "      <th></th>\n",
       "    </tr>\n",
       "  </thead>\n",
       "  <tbody>\n",
       "    <tr>\n",
       "      <th>Black</th>\n",
       "      <td>2012</td>\n",
       "      <td>38</td>\n",
       "    </tr>\n",
       "    <tr>\n",
       "      <th>Black</th>\n",
       "      <td>2013</td>\n",
       "      <td>44</td>\n",
       "    </tr>\n",
       "    <tr>\n",
       "      <th>Black</th>\n",
       "      <td>2014</td>\n",
       "      <td>27</td>\n",
       "    </tr>\n",
       "    <tr>\n",
       "      <th>Black</th>\n",
       "      <td>2015</td>\n",
       "      <td>46</td>\n",
       "    </tr>\n",
       "    <tr>\n",
       "      <th>Black</th>\n",
       "      <td>2016</td>\n",
       "      <td>86</td>\n",
       "    </tr>\n",
       "    <tr>\n",
       "      <th>Black</th>\n",
       "      <td>2017</td>\n",
       "      <td>88</td>\n",
       "    </tr>\n",
       "    <tr>\n",
       "      <th>Hispanic</th>\n",
       "      <td>2012</td>\n",
       "      <td>38</td>\n",
       "    </tr>\n",
       "    <tr>\n",
       "      <th>Hispanic</th>\n",
       "      <td>2013</td>\n",
       "      <td>52</td>\n",
       "    </tr>\n",
       "    <tr>\n",
       "      <th>Hispanic</th>\n",
       "      <td>2014</td>\n",
       "      <td>57</td>\n",
       "    </tr>\n",
       "    <tr>\n",
       "      <th>Hispanic</th>\n",
       "      <td>2015</td>\n",
       "      <td>79</td>\n",
       "    </tr>\n",
       "    <tr>\n",
       "      <th>Hispanic</th>\n",
       "      <td>2016</td>\n",
       "      <td>101</td>\n",
       "    </tr>\n",
       "    <tr>\n",
       "      <th>Hispanic</th>\n",
       "      <td>2017</td>\n",
       "      <td>122</td>\n",
       "    </tr>\n",
       "    <tr>\n",
       "      <th>Other</th>\n",
       "      <td>2012</td>\n",
       "      <td>5</td>\n",
       "    </tr>\n",
       "    <tr>\n",
       "      <th>Other</th>\n",
       "      <td>2013</td>\n",
       "      <td>6</td>\n",
       "    </tr>\n",
       "    <tr>\n",
       "      <th>Other</th>\n",
       "      <td>2014</td>\n",
       "      <td>6</td>\n",
       "    </tr>\n",
       "    <tr>\n",
       "      <th>Other</th>\n",
       "      <td>2015</td>\n",
       "      <td>9</td>\n",
       "    </tr>\n",
       "    <tr>\n",
       "      <th>Other</th>\n",
       "      <td>2016</td>\n",
       "      <td>19</td>\n",
       "    </tr>\n",
       "    <tr>\n",
       "      <th>Other</th>\n",
       "      <td>2017</td>\n",
       "      <td>15</td>\n",
       "    </tr>\n",
       "    <tr>\n",
       "      <th>White</th>\n",
       "      <td>2012</td>\n",
       "      <td>274</td>\n",
       "    </tr>\n",
       "    <tr>\n",
       "      <th>White</th>\n",
       "      <td>2013</td>\n",
       "      <td>388</td>\n",
       "    </tr>\n",
       "    <tr>\n",
       "      <th>White</th>\n",
       "      <td>2014</td>\n",
       "      <td>468</td>\n",
       "    </tr>\n",
       "    <tr>\n",
       "      <th>White</th>\n",
       "      <td>2015</td>\n",
       "      <td>589</td>\n",
       "    </tr>\n",
       "    <tr>\n",
       "      <th>White</th>\n",
       "      <td>2016</td>\n",
       "      <td>711</td>\n",
       "    </tr>\n",
       "    <tr>\n",
       "      <th>White</th>\n",
       "      <td>2017</td>\n",
       "      <td>813</td>\n",
       "    </tr>\n",
       "  </tbody>\n",
       "</table>\n",
       "</div>"
      ],
      "text/plain": [
       "          year  count\n",
       "race_eth             \n",
       "Black     2012     38\n",
       "Black     2013     44\n",
       "Black     2014     27\n",
       "Black     2015     46\n",
       "Black     2016     86\n",
       "Black     2017     88\n",
       "Hispanic  2012     38\n",
       "Hispanic  2013     52\n",
       "Hispanic  2014     57\n",
       "Hispanic  2015     79\n",
       "Hispanic  2016    101\n",
       "Hispanic  2017    122\n",
       "Other     2012      5\n",
       "Other     2013      6\n",
       "Other     2014      6\n",
       "Other     2015      9\n",
       "Other     2016     19\n",
       "Other     2017     15\n",
       "White     2012    274\n",
       "White     2013    388\n",
       "White     2014    468\n",
       "White     2015    589\n",
       "White     2016    711\n",
       "White     2017    813"
      ]
     },
     "execution_count": 532,
     "metadata": {},
     "output_type": "execute_result"
    }
   ],
   "source": [
    "race_year_sum = race_combined.groupby([\"race_eth\",\"year\"]).agg({\"year\":np.size})\n",
    "race_year_sum.columns = [\"count\"]\n",
    "race_year_sum = race_year_sum.reset_index().set_index(\"race_eth\")\n",
    "race_year_sum"
   ]
  },
  {
   "cell_type": "code",
   "execution_count": null,
   "metadata": {
    "collapsed": true
   },
   "outputs": [],
   "source": []
  },
  {
   "cell_type": "code",
   "execution_count": 518,
   "metadata": {
    "collapsed": false
   },
   "outputs": [
    {
     "data": {
      "text/html": [
       "<div>\n",
       "<table border=\"1\" class=\"dataframe\">\n",
       "  <thead>\n",
       "    <tr style=\"text-align: right;\">\n",
       "      <th></th>\n",
       "      <th>CONNECTICUT</th>\n",
       "    </tr>\n",
       "  </thead>\n",
       "  <tbody>\n",
       "    <tr>\n",
       "      <th>Black</th>\n",
       "      <td>347674.0</td>\n",
       "    </tr>\n",
       "    <tr>\n",
       "      <th>White</th>\n",
       "      <td>2464450.0</td>\n",
       "    </tr>\n",
       "    <tr>\n",
       "      <th>Hispanic</th>\n",
       "      <td>537728.0</td>\n",
       "    </tr>\n",
       "  </tbody>\n",
       "</table>\n",
       "</div>"
      ],
      "text/plain": [
       "          CONNECTICUT\n",
       "Black        347674.0\n",
       "White       2464450.0\n",
       "Hispanic     537728.0"
      ]
     },
     "execution_count": 518,
     "metadata": {},
     "output_type": "execute_result"
    }
   ],
   "source": [
    "racedf2 = racedf[[\"Black, alone\",\"White alone\",\"Hispanic any\"]]\n",
    "racedf2.columns = \"Black\",\"White\",\"Hispanic\"\n",
    "racedf2.transpose()"
   ]
  },
  {
   "cell_type": "code",
   "execution_count": 535,
   "metadata": {
    "collapsed": false
   },
   "outputs": [
    {
     "data": {
      "text/html": [
       "<div>\n",
       "<table border=\"1\" class=\"dataframe\">\n",
       "  <thead>\n",
       "    <tr style=\"text-align: right;\">\n",
       "      <th></th>\n",
       "      <th>year</th>\n",
       "      <th>count</th>\n",
       "      <th>CONNECTICUT</th>\n",
       "    </tr>\n",
       "  </thead>\n",
       "  <tbody>\n",
       "    <tr>\n",
       "      <th>Black</th>\n",
       "      <td>2012</td>\n",
       "      <td>38</td>\n",
       "      <td>347674.0</td>\n",
       "    </tr>\n",
       "    <tr>\n",
       "      <th>Black</th>\n",
       "      <td>2013</td>\n",
       "      <td>44</td>\n",
       "      <td>347674.0</td>\n",
       "    </tr>\n",
       "    <tr>\n",
       "      <th>Black</th>\n",
       "      <td>2014</td>\n",
       "      <td>27</td>\n",
       "      <td>347674.0</td>\n",
       "    </tr>\n",
       "    <tr>\n",
       "      <th>Black</th>\n",
       "      <td>2015</td>\n",
       "      <td>46</td>\n",
       "      <td>347674.0</td>\n",
       "    </tr>\n",
       "    <tr>\n",
       "      <th>Black</th>\n",
       "      <td>2016</td>\n",
       "      <td>86</td>\n",
       "      <td>347674.0</td>\n",
       "    </tr>\n",
       "  </tbody>\n",
       "</table>\n",
       "</div>"
      ],
      "text/plain": [
       "       year  count  CONNECTICUT\n",
       "Black  2012     38     347674.0\n",
       "Black  2013     44     347674.0\n",
       "Black  2014     27     347674.0\n",
       "Black  2015     46     347674.0\n",
       "Black  2016     86     347674.0"
      ]
     },
     "execution_count": 535,
     "metadata": {},
     "output_type": "execute_result"
    }
   ],
   "source": [
    "race_rates = race_year_sum.join(racedf2.transpose())\n",
    "race_rates.head()"
   ]
  },
  {
   "cell_type": "code",
   "execution_count": 544,
   "metadata": {
    "collapsed": false
   },
   "outputs": [
    {
     "data": {
      "text/html": [
       "<div>\n",
       "<table border=\"1\" class=\"dataframe\">\n",
       "  <thead>\n",
       "    <tr style=\"text-align: right;\">\n",
       "      <th></th>\n",
       "      <th>index</th>\n",
       "      <th>year</th>\n",
       "      <th>count</th>\n",
       "      <th>CONNECTICUT</th>\n",
       "      <th>rate</th>\n",
       "    </tr>\n",
       "  </thead>\n",
       "  <tbody>\n",
       "    <tr>\n",
       "      <th>0</th>\n",
       "      <td>Black</td>\n",
       "      <td>2012</td>\n",
       "      <td>38</td>\n",
       "      <td>347674.0</td>\n",
       "      <td>1.092978</td>\n",
       "    </tr>\n",
       "    <tr>\n",
       "      <th>1</th>\n",
       "      <td>Black</td>\n",
       "      <td>2013</td>\n",
       "      <td>44</td>\n",
       "      <td>347674.0</td>\n",
       "      <td>1.265553</td>\n",
       "    </tr>\n",
       "    <tr>\n",
       "      <th>2</th>\n",
       "      <td>Black</td>\n",
       "      <td>2014</td>\n",
       "      <td>27</td>\n",
       "      <td>347674.0</td>\n",
       "      <td>0.776590</td>\n",
       "    </tr>\n",
       "    <tr>\n",
       "      <th>3</th>\n",
       "      <td>Black</td>\n",
       "      <td>2015</td>\n",
       "      <td>46</td>\n",
       "      <td>347674.0</td>\n",
       "      <td>1.323079</td>\n",
       "    </tr>\n",
       "    <tr>\n",
       "      <th>4</th>\n",
       "      <td>Black</td>\n",
       "      <td>2016</td>\n",
       "      <td>86</td>\n",
       "      <td>347674.0</td>\n",
       "      <td>2.473582</td>\n",
       "    </tr>\n",
       "  </tbody>\n",
       "</table>\n",
       "</div>"
      ],
      "text/plain": [
       "   index  year  count  CONNECTICUT      rate\n",
       "0  Black  2012     38     347674.0  1.092978\n",
       "1  Black  2013     44     347674.0  1.265553\n",
       "2  Black  2014     27     347674.0  0.776590\n",
       "3  Black  2015     46     347674.0  1.323079\n",
       "4  Black  2016     86     347674.0  2.473582"
      ]
     },
     "execution_count": 544,
     "metadata": {},
     "output_type": "execute_result"
    }
   ],
   "source": [
    "race_rates[\"rate\"] = race_rates[\"count\"] * 10000. / race_rates[\"CONNECTICUT\"]\n",
    "race_rates.reset_index().head()"
   ]
  },
  {
   "cell_type": "code",
   "execution_count": 571,
   "metadata": {
    "collapsed": false
   },
   "outputs": [
    {
     "name": "stdout",
     "output_type": "stream",
     "text": [
      "year\tBlack\tHispanic\tWhite\n",
      "2012\t1.09\t0.71\t1.11\n",
      "2013\t1.27\t0.97\t1.57\n",
      "2014\t0.78\t1.06\t1.90\n",
      "2015\t1.32\t1.47\t2.39\n",
      "2016\t2.47\t1.88\t2.89\n",
      "2017\t2.53\t2.27\t3.30\n",
      "\n"
     ]
    }
   ],
   "source": [
    "for_chart = pd.pivot_table(race_rates.reset_index(),columns=\"year\",values=\"rate\",index=\"index\").loc[[\"Black\",\"Hispanic\",\"White\"]]\n",
    "print for_chart.transpose().to_csv(sep=\"\\t\",float_format='%.2f')"
   ]
  },
  {
   "cell_type": "code",
   "execution_count": 572,
   "metadata": {
    "collapsed": false
   },
   "outputs": [
    {
     "name": "stdout",
     "output_type": "stream",
     "text": [
      "year\tBlack\tHispanic\tWhite\n",
      "2012\t38\t38\t274\n",
      "2013\t44\t52\t388\n",
      "2014\t27\t57\t468\n",
      "2015\t46\t79\t589\n",
      "2016\t86\t101\t711\n",
      "2017\t88\t122\t813\n",
      "\n"
     ]
    }
   ],
   "source": [
    "for_chart = pd.pivot_table(race_rates.reset_index(),columns=\"year\",values=\"count\",index=\"index\").loc[[\"Black\",\"Hispanic\",\"White\"]]\n",
    "print for_chart.transpose().to_csv(sep=\"\\t\",float_format='%.2f')"
   ]
  },
  {
   "cell_type": "code",
   "execution_count": null,
   "metadata": {
    "collapsed": true
   },
   "outputs": [],
   "source": []
  },
  {
   "cell_type": "code",
   "execution_count": null,
   "metadata": {
    "collapsed": true
   },
   "outputs": [],
   "source": []
  }
 ],
 "metadata": {
  "kernelspec": {
   "display_name": "Python 2",
   "language": "python",
   "name": "python2"
  },
  "language_info": {
   "codemirror_mode": {
    "name": "ipython",
    "version": 2
   },
   "file_extension": ".py",
   "mimetype": "text/x-python",
   "name": "python",
   "nbconvert_exporter": "python",
   "pygments_lexer": "ipython2",
   "version": "2.7.13"
  }
 },
 "nbformat": 4,
 "nbformat_minor": 0
}
